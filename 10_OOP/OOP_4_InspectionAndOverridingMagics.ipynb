{
 "cells": [
  {
   "cell_type": "markdown",
   "metadata": {},
   "source": [
    "# Object Inspectation"
   ]
  },
  {
   "cell_type": "markdown",
   "metadata": {},
   "source": [
    "- We can check what properties are defined on an object using the dir function\n",
    "- `dir(object)`\n"
   ]
  },
  {
   "cell_type": "code",
   "execution_count": null,
   "metadata": {},
   "outputs": [],
   "source": [
    "class Person:\n",
    "    pass\n",
    "p = Person()\n",
    "print(isinstance(1, int))\n",
    "print(isinstance(1, float))\n",
    "print(isinstance(\"a\", str))\n",
    "print(isinstance(p, Person))"
   ]
  },
  {
   "cell_type": "code",
   "execution_count": null,
   "metadata": {
    "scrolled": false
   },
   "outputs": [],
   "source": [
    "class SuperHero:\n",
    "    def __init__(self, first, last):\n",
    "        self.first = first\n",
    "        self.last = last\n",
    "\n",
    "    def fullname(self):\n",
    "        return \"{} {}\".format(self.first, self.last)\n",
    "\n",
    "ironMan = SuperHero(\"Tony\", \"Stark\")\n",
    "print(dir(ironMan))"
   ]
  },
  {
   "cell_type": "markdown",
   "metadata": {},
   "source": [
    "```\n",
    "['__class__', '__delattr__', '__dict__', '__dir__', '__doc__', '__eq__', '__format__', '__ge__', '__getattribute__', '__gt__', '__hash__', '__init__', '__le__', '__lt__', '__module__', '__ne__', '__new__', '__reduce__', '__reduce_ex__', '__repr__', '__setattr__', '__sizeof__', '__str__', '__subclasshook__', '__weakref__', 'first', 'fullname', 'last']\n",
    "```\n",
    "\n",
    "These are inhetited from the base object.\n",
    "\n",
    "- If you do write your own `__init__` method, it will override the default method. Sometimes we also call this overloading.\n",
    "- These properties are usually methods, and they are sometimes called magic methods.\n",
    "- And we can overload these magics"
   ]
  },
  {
   "cell_type": "markdown",
   "metadata": {},
   "source": [
    "- `__init__`: the initialisation method of an object, which is called when the object is created.\n",
    "- `__str__`: the string representation method of an object, which is called when you use the str function to convert that object to a string.\n",
    "- `__class__`: an attribute which stores the the class (or type) of an object – this is what is returned when you use the type function on the object.\n",
    "- `__eq__`: a method which determines whether this object is equal to another.  There are also other methods for determining if it’s not equal, less than, etc.. These methods are used in object comparisons, for example when we use the equality operator == to check if two objects are equal.\n",
    "- `__add__` is a method which allows this object to be added to another object. There are equivalent methods for all the other arithmetic operators.  Not all objects support all arithemtic operations – numbers have all of these methods defined, but other objects may only have a subset.\n",
    "- `__iter__`: a method which returns an iterator over the object – we will find it on strings, lists and other iterables.  It is executed when we use the iter function on the object.\n",
    "- `__len__`: a method which calculates the length of an object – we will find it on sequences.  It is executed when we use the len function of an object.\n",
    "- `__dict__`: a dictionary which contains all the instance attributes of an object, with their names as keys.  It can be useful if we want to iterate over all the attributes of an object. `__dict__` does not include any methods, class attributes or special default attributes like `__class__`."
   ]
  },
  {
   "cell_type": "markdown",
   "metadata": {},
   "source": [
    "## Practice Question\n",
    "Given a class:\n",
    "```python\n",
    "    class Person:\n",
    "        def __init__(self, name):\n",
    "            self.name = name\n",
    "        \n",
    "        def get_name(self):\n",
    "            return self.name\n",
    "```\n",
    "- Create an instance of the Person class. \n",
    "- Use the `dir` function on the instance. \n",
    "- Then use the `dir` function on the class.\n",
    "- What happens if you call the `__str__` method on the instance?\n",
    "- What is the type of the instance?\n",
    "- What is the type of the class?\n",
    "- Write a function which prints out the names and values of all the attributes"
   ]
  },
  {
   "cell_type": "code",
   "execution_count": null,
   "metadata": {
    "scrolled": true
   },
   "outputs": [],
   "source": [
    " class Person:\n",
    "        def __init__(self, name):\n",
    "            self.name = name\n",
    "\n",
    "        def get_name(self):\n",
    "            return self.name\n",
    "\n",
    "# p = Person(\"Sagar\")\n",
    "# print(\"Instance: \", dir(p))\n",
    "# print(\"Class: \", dir(Person))\n",
    "# print(\"p.str: \", p.__str__())\n",
    "# print(type(p))\n",
    "# print(type(Person))\n",
    "\n",
    "\n",
    "# def print_object_attrs(any_object):\n",
    "#     for k, v in any_object.__dict__.items():\n",
    "#         print(\"{}: {}\".format(k, v))\n",
    "# print_object_attrs(p)"
   ]
  },
  {
   "cell_type": "markdown",
   "metadata": {},
   "source": [
    "# `getattr`, `setattr` and `hasattr`"
   ]
  },
  {
   "cell_type": "code",
   "execution_count": null,
   "metadata": {},
   "outputs": [],
   "source": [
    "class MyClass:\n",
    "    def __init__(self, var):\n",
    "        self.var = var\n",
    "c = MyClass(\"123\")\n",
    "print(c.__dict__)\n",
    "getattr(c, \"var\")\n",
    "\n",
    "setattr(c, \"var\", 456)\n",
    "print(c.__dict__)\n",
    "\n",
    "hasattr(c, \"var\")\n",
    "hasattr(c, \"arggg\")"
   ]
  },
  {
   "cell_type": "markdown",
   "metadata": {},
   "source": [
    "# Overriding magic methods\n",
    "\n",
    "- magic methods are implicitly called everytime when object is created"
   ]
  },
  {
   "cell_type": "code",
   "execution_count": null,
   "metadata": {},
   "outputs": [],
   "source": [
    "# + behaves differently\n",
    "print(1 + 3)\n",
    "print(\"a\" + \"b\")\n",
    "print([1, 2, 3] + [4, 5, 6])"
   ]
  },
  {
   "cell_type": "code",
   "execution_count": null,
   "metadata": {},
   "outputs": [],
   "source": [
    "print(dir(object))"
   ]
  },
  {
   "cell_type": "code",
   "execution_count": null,
   "metadata": {},
   "outputs": [],
   "source": [
    "class Person(object):\n",
    "    def __init__(self, fname, lname):\n",
    "        self.fname = fname\n",
    "        self.lname = lname\n",
    "    \n",
    "    @property\n",
    "    def fullname(self):\n",
    "        return \"{} {}\".format(self.fname, self.lname)\n",
    "\n",
    "p = Person(\"Bruce\", \"Wayne\")\n",
    "print(dir(p))\n",
    "print(p.fullname)\n",
    "\n",
    "# print(p)\n",
    "# print(p.__str__())"
   ]
  },
  {
   "cell_type": "code",
   "execution_count": null,
   "metadata": {},
   "outputs": [],
   "source": [
    "class Person(object):\n",
    "    def __init__(self, fname, lname):\n",
    "        self.fname = fname\n",
    "        self.lname = lname\n",
    "    \n",
    "    @property\n",
    "    def fullname(self):\n",
    "        return \"{} {}\".format(self.fname, self.lname)\n",
    "\n",
    "    def __repr__(self): # used for debugging, logging\n",
    "        return \"Employee ('{}', '{}')\".format(self.fname, self.lname)\n",
    "    \n",
    "    def __str__(self): # user for string representation to end user\n",
    "        return \"{}\".format(self.fullname)\n",
    "    \n",
    "p = Person(\"Peter\", \"Parker\")\n",
    "print(p)\n",
    "\n",
    "print(repr(p))\n",
    "print(str(p))\n",
    "\n",
    "print(p.__repr__())\n",
    "print(p.__str__())"
   ]
  },
  {
   "cell_type": "code",
   "execution_count": null,
   "metadata": {},
   "outputs": [],
   "source": [
    "print(dir(1))"
   ]
  },
  {
   "cell_type": "code",
   "execution_count": null,
   "metadata": {},
   "outputs": [],
   "source": [
    "print(dir(\"a\"))"
   ]
  },
  {
   "cell_type": "code",
   "execution_count": null,
   "metadata": {},
   "outputs": [],
   "source": [
    "print(int.__add__(1, 2))\n",
    "print(str.__add__(\"Hello \",\"world\"))"
   ]
  },
  {
   "cell_type": "code",
   "execution_count": null,
   "metadata": {},
   "outputs": [],
   "source": [
    "class SuperHero:\n",
    "    def __init__(self, name, worth):\n",
    "        self.name = name\n",
    "        self.worth = worth\n",
    "    \n",
    "    def __add__(self, other):\n",
    "        return self.worth + other.worth\n",
    "\n",
    "ironMan = SuperHero(\"Tony Stark\", 175)\n",
    "batMan = SuperHero(\"Bruce Wayne\", 200)\n",
    "\n",
    "total = ironMan.__add__(batMan)\n",
    "print(total)"
   ]
  },
  {
   "cell_type": "markdown",
   "metadata": {},
   "source": [
    "### Q. Implement `__len__` magic on your own to get the length of fullname of each super hero"
   ]
  },
  {
   "cell_type": "code",
   "execution_count": null,
   "metadata": {},
   "outputs": [],
   "source": [
    "class SuperHero:\n",
    "    def __init__(self, name, worth):\n",
    "        self.name = name\n",
    "        self.worth = worth\n",
    "    \n",
    "    def __add__(self, other):\n",
    "        if(isinstance(other, SuperHero)): # To be on the safe side\n",
    "            return self.worth + other.worth\n",
    "        return \"Other object must be of SuperHero Type\"\n",
    "    \n",
    "ironMan = SuperHero(\"Tony Stark\", 175)\n",
    "batMan = SuperHero(\"Bruce Wayne\", 200)\n",
    "\n",
    "total = ironMan.__add__(batMan)\n",
    "print(total)"
   ]
  },
  {
   "cell_type": "markdown",
   "metadata": {},
   "source": [
    "** Q. Override `__eq__` , `__lt__`, `__gt__` method to check equality and unequality**\n",
    "\n",
    "Make sure you handle the gotchas"
   ]
  },
  {
   "cell_type": "markdown",
   "metadata": {},
   "source": [
    "# Exercise\n",
    "Q. Write a class for creating completely generic objects: \n",
    "- its `__init__` function should accept any number of keyword parameters, and set them on the object as attributes with the keys as names. \n",
    "\n",
    "[Hint: Use `**kwargs` and `setattr()` while initializing object]"
   ]
  },
  {
   "cell_type": "code",
   "execution_count": null,
   "metadata": {},
   "outputs": [],
   "source": []
  },
  {
   "cell_type": "code",
   "execution_count": null,
   "metadata": {},
   "outputs": [],
   "source": []
  },
  {
   "cell_type": "code",
   "execution_count": null,
   "metadata": {},
   "outputs": [],
   "source": []
  },
  {
   "cell_type": "code",
   "execution_count": null,
   "metadata": {},
   "outputs": [],
   "source": []
  },
  {
   "cell_type": "code",
   "execution_count": null,
   "metadata": {},
   "outputs": [],
   "source": [
    "class SuperHero:\n",
    "    def __init__(self, name, worth):\n",
    "        self.name = name\n",
    "        self.worth = worth\n",
    "    \n",
    "    def __eq__(self, other):\n",
    "        return self.worth == other.worth\n",
    "    \n",
    "    def __lt__(self, other):\n",
    "        return self.worth < other.worth\n",
    "    \n",
    "    def __gt__(self, other):\n",
    "        return self.worth > other.worth\n",
    "\n",
    "ironMan = SuperHero(\"Tony Stark\", 175)\n",
    "batMan = SuperHero(\"Bruce Wayne\", 200)\n",
    "\n",
    "print(ironMan == batMan)\n",
    "print(ironMan < batMan)\n",
    "print(ironMan > batMan)"
   ]
  },
  {
   "cell_type": "code",
   "execution_count": null,
   "metadata": {},
   "outputs": [],
   "source": [
    "class AnyClass:\n",
    "    def __init__(self, **kwargs):\n",
    "        for k, v in kwargs.items():\n",
    "            setattr(self, k, v)\n",
    "\n",
    "m1 = AnyClass(fname=\"Sagar\", lname=\"Giri\")\n",
    "m2 = AnyClass(fname=\"Hari\", lname=\"Bahadur\", salary=\"50k\")\n",
    "print(m1.__dict__)\n",
    "print(m2.__dict__)"
   ]
  }
 ],
 "metadata": {
  "kernelspec": {
   "display_name": "Python 3",
   "language": "python",
   "name": "python3"
  },
  "language_info": {
   "codemirror_mode": {
    "name": "ipython",
    "version": 3
   },
   "file_extension": ".py",
   "mimetype": "text/x-python",
   "name": "python",
   "nbconvert_exporter": "python",
   "pygments_lexer": "ipython3",
   "version": "3.6.4"
  }
 },
 "nbformat": 4,
 "nbformat_minor": 1
}
