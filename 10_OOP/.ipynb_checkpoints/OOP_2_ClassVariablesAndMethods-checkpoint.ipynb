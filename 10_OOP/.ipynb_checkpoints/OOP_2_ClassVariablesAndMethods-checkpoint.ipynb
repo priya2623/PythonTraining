{
 "cells": [
  {
   "cell_type": "markdown",
   "metadata": {},
   "source": [
    "- Class variables are variables that are shared among all instance of a class.\n",
    "- But, the instance variables can be unique for each instance."
   ]
  },
  {
   "cell_type": "code",
   "execution_count": null,
   "metadata": {},
   "outputs": [],
   "source": [
    "class Employee:\n",
    "\n",
    "    def __init__(self, first, last, pay):\n",
    "        self.first = first #these are instance variables\n",
    "        self.last = last\n",
    "        self.pay = pay\n",
    "        self.email = self.first + \".\" + self.last + \"@deerwalk.com\"\n",
    "    \n",
    "    def fullname(self):\n",
    "        return \"{} {}\".format(self.first, self.last)\n",
    "\n",
    "emp1 = Employee(\"Sagar\", \"Giri\", 50000)\n",
    "print(emp1.pay)\n",
    "print(emp1.fullname())"
   ]
  },
  {
   "cell_type": "markdown",
   "metadata": {},
   "source": [
    "> ## To define a class variable, we must know what kind of data are shared among all the instaces\n",
    "\n",
    "- For example, lets say deerwalk gives annual raise for each employee\n",
    "- this raise can be considered as class variable"
   ]
  },
  {
   "cell_type": "code",
   "execution_count": null,
   "metadata": {},
   "outputs": [],
   "source": [
    "# But, first lets set a hardcoded raise percentage\n",
    "class Employee:\n",
    "\n",
    "    def __init__(self, first, last, pay):\n",
    "        self.first = first #these are instance variables\n",
    "        self.last = last\n",
    "        self.pay = pay\n",
    "        self.email = self.first + \".\" + self.last + \"@deerwalk.com\"\n",
    "    \n",
    "    def fullname(self):\n",
    "        return \"{} {}\".format(self.first, self.last)\n",
    "    \n",
    "    def raise_salary(self):\n",
    "        self.pay = int(self.pay * 1.04)\n",
    "\n",
    "emp1 = Employee(\"Sagar\", \"Giri\", 50000)\n",
    "print(emp1.pay)\n",
    "emp1.raise_salary()\n",
    "print(emp1.pay)"
   ]
  },
  {
   "cell_type": "code",
   "execution_count": null,
   "metadata": {},
   "outputs": [],
   "source": [
    "class Employee:\n",
    "    rasie_amount = 1.04\n",
    "    \n",
    "    def __init__(self, first, last, pay):\n",
    "        self.first = first #these are instance variables\n",
    "        self.last = last\n",
    "        self.pay = pay\n",
    "        self.email = self.first + \".\" + self.last + \"@deerwalk.com\"\n",
    "    \n",
    "    def fullname(self):\n",
    "        return \"{} {}\".format(self.first, self.last)\n",
    "    \n",
    "    def raise_salary(self):\n",
    "        self.pay = int(self.pay * Employee.rasie_amount)\n",
    "        #self.pay = int(self.pay * self.rasie_amount)"
   ]
  },
  {
   "cell_type": "code",
   "execution_count": null,
   "metadata": {},
   "outputs": [],
   "source": [
    "emp1 = Employee(\"Sagar\", \"Giri\", 50000)\n",
    "print(emp1.pay)\n",
    "emp1.raise_salary()\n",
    "print(emp1.pay)"
   ]
  },
  {
   "cell_type": "code",
   "execution_count": null,
   "metadata": {},
   "outputs": [],
   "source": [
    "emp1 = Employee(\"Sagar\", \"Giri\", 50000)\n",
    "emp2 = Employee(\"Hari\", \"Bahadur\", 40000)\n",
    "print(Employee.rasie_amount)\n",
    "print(emp1.rasie_amount)\n",
    "print(emp2.rasie_amount)"
   ]
  },
  {
   "cell_type": "code",
   "execution_count": null,
   "metadata": {},
   "outputs": [],
   "source": [
    "print(Employee.__dict__)"
   ]
  },
  {
   "cell_type": "code",
   "execution_count": null,
   "metadata": {},
   "outputs": [],
   "source": [
    "class Employee(object):\n",
    "    num_of_employee = 0\n",
    "    \n",
    "    def __init__(self):\n",
    "        Employee.num_of_employee += 1\n",
    "\n"
   ]
  },
  {
   "cell_type": "markdown",
   "metadata": {},
   "source": [
    "# Class Methods\n",
    "- Declare class methods using decorator @classmethod\n",
    "- pass `cls` as first required argument"
   ]
  },
  {
   "cell_type": "code",
   "execution_count": 5,
   "metadata": {},
   "outputs": [],
   "source": [
    "class Account:\n",
    "    interest = 0.15\n",
    "    def __init__(self, name, accNo, balance=0.0):\n",
    "        self.name = name\n",
    "        self.accNo = accNo\n",
    "        self.balance = balance\n",
    "\n",
    "    def withdraw(self, amount):\n",
    "        if self.balance > amount:\n",
    "            self.balance -= amount\n",
    "            return self.balance\n",
    "        else:\n",
    "            return False\n",
    "\n",
    "    def deposit(self, amount):\n",
    "        self.balance += amount\n",
    "        return self.balance\n",
    "\n",
    "    def getInterestRate(self):\n",
    "        return self.interest\n",
    "\n",
    "    @classmethod\n",
    "    def initializeFromString(cls, inp): #This is class method\n",
    "        name, accNo = inp.split(\"-\")\n",
    "        return name, accNo\n",
    "#         return cls(name, accNo)"
   ]
  },
  {
   "cell_type": "code",
   "execution_count": 6,
   "metadata": {},
   "outputs": [
    {
     "data": {
      "text/plain": [
       "('nitin', 'kr')"
      ]
     },
     "execution_count": 6,
     "metadata": {},
     "output_type": "execute_result"
    }
   ],
   "source": [
    "Account.initializeFromString('nitin-kr')"
   ]
  },
  {
   "cell_type": "code",
   "execution_count": null,
   "metadata": {},
   "outputs": [],
   "source": [
    "a1 = Account(\"Sagar\", 525252)\n",
    "a2 = Account.initializeFromString(\"Sagar-1234\")\n",
    "a2.interest = 0.20\n",
    "print(a1.getInterestRate())\n",
    "print(a2.getInterestRate())"
   ]
  }
 ],
 "metadata": {
  "kernelspec": {
   "display_name": "Python 3",
   "language": "python",
   "name": "python3"
  },
  "language_info": {
   "codemirror_mode": {
    "name": "ipython",
    "version": 3
   },
   "file_extension": ".py",
   "mimetype": "text/x-python",
   "name": "python",
   "nbconvert_exporter": "python",
   "pygments_lexer": "ipython3",
   "version": "3.6.7"
  }
 },
 "nbformat": 4,
 "nbformat_minor": 1
}
