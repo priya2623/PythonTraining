{
 "cells": [
  {
   "cell_type": "markdown",
   "metadata": {},
   "source": [
    "- decorators – functions which are used to modify the behaviour of other functions. \n",
    "- There are some built-in decorators which are often used in class definitions.\n",
    "    - @classmethod\n",
    "    - @staticmethod\n",
    "    - @property"
   ]
  },
  {
   "cell_type": "markdown",
   "metadata": {},
   "source": [
    "### @classmethod"
   ]
  },
  {
   "cell_type": "markdown",
   "metadata": {},
   "source": [
    "- used to class methods\n",
    "- A class method still has its calling object as the first parameter, but by convention we rename this parameter from `self` to `cls`\n",
    "- If we call the class method from an instance, this parameter will contain the instance object, \n",
    "- If we call it from the class it will contain the class object.\n"
   ]
  },
  {
   "cell_type": "markdown",
   "metadata": {},
   "source": [
    "### What are class methods good for? \n",
    "- When there are tasks associated with a class only.\n",
    "- If we had to use these tasks via instances, we would need to create an instance for no reason, which would be wasteful. \n",
    "- Sometimes it is useful to write a class method which creates an instance of the class after processing the input so that it is in the right format to be passed to the class constructor.\n",
    "\n",
    "```python\n",
    "class Person:\n",
    "\n",
    "    def __init__(self, name, surname, email):\n",
    "        self.name = name\n",
    "        # (...)\n",
    "\n",
    "    @classmethod\n",
    "    def from_json_file(cls, filename):\n",
    "        # extract all the parameters from the text file\n",
    "        return cls(*params) # this is the same as calling Person(*params)\n",
    "```"
   ]
  },
  {
   "cell_type": "code",
   "execution_count": 11,
   "metadata": {},
   "outputs": [],
   "source": [
    "class A(object):\n",
    "    def foo(self,x):\n",
    "        print (\"executing foo(%s,%s)\"%(self,x))\n",
    "\n",
    "    @classmethod\n",
    "    def class_foo(cls,x):\n",
    "        print (\"executing class_foo(%s,%s)\"%(cls,x))\n",
    "\n",
    "    @staticmethod\n",
    "    def static_foo(x):\n",
    "        print (\"executing static_foo(%s)\"%x)\n",
    "\n",
    "class B(A):\n",
    "    pass"
   ]
  },
  {
   "cell_type": "code",
   "execution_count": 12,
   "metadata": {},
   "outputs": [
    {
     "name": "stdout",
     "output_type": "stream",
     "text": [
      "executing static_foo(xyz)\n"
     ]
    }
   ],
   "source": [
    "A.static_foo(\"xyz\")"
   ]
  },
  {
   "cell_type": "code",
   "execution_count": 13,
   "metadata": {},
   "outputs": [
    {
     "name": "stdout",
     "output_type": "stream",
     "text": [
      "executing class_foo(<class '__main__.A'>,xyz)\n"
     ]
    }
   ],
   "source": [
    "A.class_foo(\"xyz\")"
   ]
  },
  {
   "cell_type": "code",
   "execution_count": 14,
   "metadata": {},
   "outputs": [
    {
     "name": "stdout",
     "output_type": "stream",
     "text": [
      "executing static_foo(xyz)\n"
     ]
    }
   ],
   "source": [
    "B.static_foo(\"xyz\")"
   ]
  },
  {
   "cell_type": "code",
   "execution_count": 15,
   "metadata": {},
   "outputs": [
    {
     "name": "stdout",
     "output_type": "stream",
     "text": [
      "executing class_foo(<class '__main__.B'>,xyz)\n"
     ]
    }
   ],
   "source": [
    "B.class_foo(\"xyz\")"
   ]
  },
  {
   "cell_type": "code",
   "execution_count": null,
   "metadata": {},
   "outputs": [],
   "source": []
  },
  {
   "cell_type": "markdown",
   "metadata": {},
   "source": [
    "## Example"
   ]
  },
  {
   "cell_type": "code",
   "execution_count": null,
   "metadata": {},
   "outputs": [],
   "source": [
    "class Account:\n",
    "    \n",
    "    interest = 0.15 #class variable\n",
    "    \n",
    "    def __init__(self, name, accNo, balance=0.0):\n",
    "        self.name = name\n",
    "        self.accNo = accNo\n",
    "        self.balance = balance\n",
    "\n",
    "    def withdraw(self, amount):\n",
    "        if self.balance > amount:\n",
    "            self.balance -= amount\n",
    "            return self.balance\n",
    "        else:\n",
    "            return False\n",
    "\n",
    "    def deposit(self, amount):\n",
    "        self.balance += amount\n",
    "        return self.balance\n",
    "\n",
    "    @classmethod\n",
    "    def initializeFromString(cls, inp): #This is class method\n",
    "        name, accNo = inp.split(\"-\")\n",
    "        return cls(name, accNo)"
   ]
  },
  {
   "cell_type": "code",
   "execution_count": null,
   "metadata": {
    "scrolled": true
   },
   "outputs": [],
   "source": [
    "a1 = Account.initializeFromString(\"Sagar-1234\")\n",
    "a1.__dict__"
   ]
  },
  {
   "cell_type": "markdown",
   "metadata": {},
   "source": [
    "### @staticmethods"
   ]
  },
  {
   "cell_type": "markdown",
   "metadata": {},
   "source": [
    "- `@staticmethods` decorator is used to define static methods\n",
    "- While defining a static method we don't pass cls (Class) or self (instance) as a first parameter. \n",
    "- It doesn't have access to the rest of the class or instance at all. \n",
    "- Staticmethods are most commonly invoked from class objects, like class methods.\n",
    "- But, we can invoke staticmethods them from an instance as well \n",
    "\n",
    "### When to use it?\n",
    "- If we are using a class to group together related methods which don't need to access each other or any other data on the class. \n",
    "- By using static methods, we eliminate unnecessary `cls` or `self` parameters from our method definitions. "
   ]
  },
  {
   "cell_type": "code",
   "execution_count": null,
   "metadata": {},
   "outputs": [],
   "source": [
    "class Account:\n",
    "    TYPE = ('Savings', \n",
    "            'Basic Checking', \n",
    "            'Interest-Bearing Checking', \n",
    "            'Money Market Deposit')\n",
    "\n",
    "    @classmethod\n",
    "    def allowed_titles_starting_with(cls, startswith): # class method\n",
    "        # class or instance object accessible through cls\n",
    "        return [t for t in cls.TYPE if t.startswith(startswith)]\n",
    "\n",
    "    @staticmethod\n",
    "    def allowed_titles_ending_with(endswith): # static method\n",
    "        # no parameter for class or instance object\n",
    "        # we have to use Account directly\n",
    "        return [t for t in Account.TYPE if t.endswith(endswith)]"
   ]
  },
  {
   "cell_type": "code",
   "execution_count": null,
   "metadata": {},
   "outputs": [],
   "source": [
    "a = Account()\n",
    "\n",
    "print(a.allowed_titles_starting_with(\"M\"))\n",
    "print(Account.allowed_titles_starting_with(\"M\"))\n",
    "\n",
    "print(a.allowed_titles_ending_with(\"s\"))\n",
    "\n",
    "print(Account.allowed_titles_ending_with(\"s\"))"
   ]
  },
  {
   "cell_type": "markdown",
   "metadata": {},
   "source": [
    "### Example"
   ]
  },
  {
   "cell_type": "code",
   "execution_count": null,
   "metadata": {},
   "outputs": [],
   "source": [
    "import datetime\n",
    "class DateTimeWrapper():\n",
    "    \n",
    "    @staticmethod\n",
    "    def is_workday(day):\n",
    "        if day.weekday() == 5 or day.weekday() == 6:\n",
    "            return False\n",
    "        return True\n",
    "\n",
    "my_date = datetime.date(2018, 7, 27)\n",
    "is_workDay = DateTimeWrapper.is_workday(my_date)\n",
    "print(\"Is {} workday ? -> {}\".format(my_date, is_workDay))"
   ]
  },
  {
   "cell_type": "markdown",
   "metadata": {},
   "source": [
    "### @property"
   ]
  },
  {
   "cell_type": "markdown",
   "metadata": {},
   "source": [
    "- `@property` decorator allow us to define a method we can access it like a attribute\n",
    "- `@property` decorators helps to implement getter and setter method.\n",
    "- we use a method to generate a property of an object dynamically\n",
    "\n",
    "```python\n",
    "class Person:\n",
    "    def __init__(self, height):\n",
    "        self.height = height\n",
    "\n",
    "    def get_height(self):\n",
    "        return self.height\n",
    "\n",
    "    def set_height(self, height):\n",
    "        self.height = height\n",
    "\n",
    "p = Person(153) # Jane is 153cm tall\n",
    "\n",
    "p.height += 1 # Jane grows by a centimetre\n",
    "p.set_height(jane.height + 1) # Jane grows again\n",
    "```"
   ]
  },
  {
   "cell_type": "code",
   "execution_count": 22,
   "metadata": {},
   "outputs": [],
   "source": [
    "import time\n",
    "    \n",
    "class X:\n",
    "\n",
    "    @property\n",
    "    def current_time(self):\n",
    "        return time.ctime()"
   ]
  },
  {
   "cell_type": "code",
   "execution_count": 24,
   "metadata": {},
   "outputs": [
    {
     "data": {
      "text/plain": [
       "'Wed Jul 17 09:55:24 2019'"
      ]
     },
     "execution_count": 24,
     "metadata": {},
     "output_type": "execute_result"
    }
   ],
   "source": [
    "obj = X()\n",
    "obj.current_time"
   ]
  },
  {
   "cell_type": "code",
   "execution_count": 28,
   "metadata": {},
   "outputs": [
    {
     "data": {
      "text/plain": [
       "'Wed Jul 17 09:57:16 2019'"
      ]
     },
     "execution_count": 28,
     "metadata": {},
     "output_type": "execute_result"
    }
   ],
   "source": [
    "obj.current_time"
   ]
  },
  {
   "cell_type": "code",
   "execution_count": 42,
   "metadata": {},
   "outputs": [],
   "source": [
    "class C:\n",
    "    def __init__(self):\n",
    "        self._x = 10\n",
    "\n",
    "    @property\n",
    "    def x(self):\n",
    "        \"\"\"I'm the 'x' property.\"\"\"\n",
    "        print ('in getter')\n",
    "        return self._x\n",
    "\n",
    "    @x.setter\n",
    "    def x(self, value):\n",
    "        raise ValueError(\"cant set this\")\n",
    "\n",
    "    @x.deleter\n",
    "    def x(self):\n",
    "        print ('in deletter')\n",
    "        del self._x"
   ]
  },
  {
   "cell_type": "code",
   "execution_count": 46,
   "metadata": {},
   "outputs": [],
   "source": [
    "obj = C()"
   ]
  },
  {
   "cell_type": "code",
   "execution_count": 47,
   "metadata": {},
   "outputs": [
    {
     "ename": "ValueError",
     "evalue": "cant set this",
     "output_type": "error",
     "traceback": [
      "\u001b[0;31m---------------------------------------------------------------------------\u001b[0m",
      "\u001b[0;31mValueError\u001b[0m                                Traceback (most recent call last)",
      "\u001b[0;32m<ipython-input-47-a3e42eda6cb8>\u001b[0m in \u001b[0;36m<module>\u001b[0;34m\u001b[0m\n\u001b[0;32m----> 1\u001b[0;31m \u001b[0mobj\u001b[0m\u001b[0;34m.\u001b[0m\u001b[0mx\u001b[0m \u001b[0;34m=\u001b[0m \u001b[0;36m2\u001b[0m\u001b[0;34m\u001b[0m\u001b[0;34m\u001b[0m\u001b[0m\n\u001b[0m",
      "\u001b[0;32m<ipython-input-42-6dd0f8c6bf81>\u001b[0m in \u001b[0;36mx\u001b[0;34m(self, value)\u001b[0m\n\u001b[1;32m     11\u001b[0m     \u001b[0;34m@\u001b[0m\u001b[0mx\u001b[0m\u001b[0;34m.\u001b[0m\u001b[0msetter\u001b[0m\u001b[0;34m\u001b[0m\u001b[0;34m\u001b[0m\u001b[0m\n\u001b[1;32m     12\u001b[0m     \u001b[0;32mdef\u001b[0m \u001b[0mx\u001b[0m\u001b[0;34m(\u001b[0m\u001b[0mself\u001b[0m\u001b[0;34m,\u001b[0m \u001b[0mvalue\u001b[0m\u001b[0;34m)\u001b[0m\u001b[0;34m:\u001b[0m\u001b[0;34m\u001b[0m\u001b[0;34m\u001b[0m\u001b[0m\n\u001b[0;32m---> 13\u001b[0;31m         \u001b[0;32mraise\u001b[0m \u001b[0mValueError\u001b[0m\u001b[0;34m(\u001b[0m\u001b[0;34m\"cant set this\"\u001b[0m\u001b[0;34m)\u001b[0m\u001b[0;34m\u001b[0m\u001b[0;34m\u001b[0m\u001b[0m\n\u001b[0m\u001b[1;32m     14\u001b[0m \u001b[0;34m\u001b[0m\u001b[0m\n\u001b[1;32m     15\u001b[0m     \u001b[0;34m@\u001b[0m\u001b[0mx\u001b[0m\u001b[0;34m.\u001b[0m\u001b[0mdeleter\u001b[0m\u001b[0;34m\u001b[0m\u001b[0;34m\u001b[0m\u001b[0m\n",
      "\u001b[0;31mValueError\u001b[0m: cant set this"
     ]
    }
   ],
   "source": [
    "obj.x = 2"
   ]
  },
  {
   "cell_type": "code",
   "execution_count": 45,
   "metadata": {},
   "outputs": [
    {
     "name": "stdout",
     "output_type": "stream",
     "text": [
      "in deletter\n"
     ]
    }
   ],
   "source": [
    "del obj.x"
   ]
  },
  {
   "cell_type": "code",
   "execution_count": null,
   "metadata": {},
   "outputs": [],
   "source": []
  },
  {
   "cell_type": "code",
   "execution_count": null,
   "metadata": {},
   "outputs": [],
   "source": [
    "class Employee:\n",
    "\n",
    "    def __init__(self, first, last):\n",
    "        self.first = first\n",
    "        self.last = last\n",
    "    \n",
    "    def email(self):\n",
    "        return self.first+\".\"+self.last+\"@company.com\"\n",
    "\n",
    "    def fullname(self):\n",
    "        return \"{} {}\".format(self.first, self.last)\n",
    "\n",
    "emp1 = Employee(\"Sagar\", \"Giri\")\n",
    "print(emp1.first)\n",
    "print(emp1.email()) #problem - Everyone who is using this Class need to do this\n",
    "emp1.first= \"john\"\n",
    "print(emp1.first)\n",
    "print(emp1.email())"
   ]
  },
  {
   "cell_type": "markdown",
   "metadata": {},
   "source": [
    "### Better solution - Use `@property` decorator"
   ]
  },
  {
   "cell_type": "code",
   "execution_count": null,
   "metadata": {},
   "outputs": [],
   "source": [
    "class Employee:\n",
    "\n",
    "    def __init__(self, first, last):\n",
    "        self.first = first\n",
    "        self.last = last\n",
    "    \n",
    "    @property\n",
    "    def email(self):\n",
    "        return self.first+\".\"+self.last+\"@company.com\"\n",
    "\n",
    "    def fullname(self):\n",
    "        return \"{} {}\".format(self.first, self.last)\n",
    "    \n",
    "emp1 = Employee(\"Sagar\", \"Giri\")\n",
    "print(emp1.first)\n",
    "print(emp1.email) #problem - Everyone who is using this Class need to do this\n",
    "emp1.first= \"john\"\n",
    "print(emp1.first)\n",
    "print(emp1.email)\n",
    "\n",
    "print(emp1.fullname)\n",
    "\n",
    "\n",
    "#BUT, DOWNSIDE IS WE CANNOT CHANGE EMAIL\n",
    "emp1.email = \"sgiri@deerwalk.com\" # TO OVERCOME THIS, WE USE GETTER AND SETTER"
   ]
  },
  {
   "cell_type": "markdown",
   "metadata": {},
   "source": [
    "### Using `@property` decorator as getter and setter\n",
    "\n",
    "- getters and setters are methods to update the value of the attribute instead of accessing it directly. \n",
    "- They are called getters and setters, because they \"get\" and \"set\" the values of attributes, respectively.\n",
    "\n",
    "- To do this, we use name of the `@property.setter` \n",
    "- To set fullname, we use `@fullname.setter`\n",
    "- underneath this setter, define a method with the same name"
   ]
  },
  {
   "cell_type": "code",
   "execution_count": null,
   "metadata": {},
   "outputs": [],
   "source": [
    "class Employee:\n",
    "\n",
    "    def __init__(self, first, last):\n",
    "        self.first = first\n",
    "        self.last = last\n",
    "    \n",
    "    @property\n",
    "    def email(self):\n",
    "        return self.first+\".\"+self.last+\"@company.com\"\n",
    "    \n",
    "    @property\n",
    "    def fullname(self):\n",
    "        return \"{} {}\".format(self.first, self.last)\n",
    "    \n",
    "    @fullname.setter # this is setter\n",
    "    def fullname(self, name):\n",
    "        first, last = name.split(\" \")\n",
    "        self.first = first\n",
    "        self.last = last\n",
    "\n",
    "emp1 = Employee(\"Sagar\", \"Giri\")\n",
    "print(emp1.fullname)\n",
    "print(emp1.email)\n",
    "\n",
    "print(\"---------After setter----------\")\n",
    "emp1.fullname = \"Hari Bahadur\"\n",
    "print(emp1.fullname)\n",
    "print(emp1.email)"
   ]
  },
  {
   "cell_type": "code",
   "execution_count": null,
   "metadata": {
    "scrolled": true
   },
   "outputs": [],
   "source": [
    "class Employee:\n",
    "\n",
    "    def __init__(self, first, last):\n",
    "        self.first = first\n",
    "        self.last = last\n",
    "    \n",
    "    @property\n",
    "    def email(self):\n",
    "        return self.first+\".\"+self.last+\"@company.com\"\n",
    "    \n",
    "    @property\n",
    "    def fullname(self):\n",
    "        return \"{} {}\".format(self.first, self.last)\n",
    "    \n",
    "    @fullname.setter # this is setter\n",
    "    def fullname(self, name):\n",
    "        first, last = name.split(\" \")\n",
    "        self.first = first\n",
    "        self.last = last\n",
    "    \n",
    "    @fullname.deleter # this is setter\n",
    "    def fullname(self):\n",
    "        print(\"Delete fullname\")\n",
    "        del self.first\n",
    "        del self.last\n",
    "\n",
    "emp1 = Employee(\"Sagar\", \"Giri\")\n",
    "print(emp1.fullname)\n",
    "print(emp1.email)\n",
    "\n",
    "print(\"---------After setter----------\")\n",
    "emp1.fullname = \"Hari Bahadur\"\n",
    "print(emp1.fullname)\n",
    "print(emp1.email)\n",
    "print(emp1.__dict__)\n",
    "\n",
    "print(\"---------After Deleter----------\")\n",
    "del emp1.fullname\n",
    "print(emp1.__dict__)"
   ]
  },
  {
   "cell_type": "markdown",
   "metadata": {},
   "source": [
    "# Practice Question\n",
    "\n",
    "\n",
    "\n",
    "1. Create a class called **Numbers**, which has a single *class attribute* called **MULTIPLIER**, and a constructor which takes the parameters x and y (these should all be numbers).\n",
    "    2. Write a method called **add** which returns the sum of the attributes x and y.\n",
    "    3. Write a *class method* called **multiply**, which takes a single number parameter a and returns the product of a and MULTIPLIER.\n",
    "    4. Write a *static method* called **subtract**, which takes two number parameters, b and c, and returns b - c.\n",
    "    5. Write a method called value which returns a tuple containing the values of x and y. Make this method into a **property**, and write a **setter** and a **deleter** for manipulating the values of x and y.\n"
   ]
  },
  {
   "cell_type": "code",
   "execution_count": null,
   "metadata": {},
   "outputs": [],
   "source": []
  },
  {
   "cell_type": "code",
   "execution_count": null,
   "metadata": {},
   "outputs": [],
   "source": []
  },
  {
   "cell_type": "code",
   "execution_count": null,
   "metadata": {},
   "outputs": [],
   "source": []
  },
  {
   "cell_type": "code",
   "execution_count": null,
   "metadata": {},
   "outputs": [],
   "source": []
  },
  {
   "cell_type": "code",
   "execution_count": null,
   "metadata": {},
   "outputs": [],
   "source": []
  },
  {
   "cell_type": "code",
   "execution_count": null,
   "metadata": {},
   "outputs": [],
   "source": []
  },
  {
   "cell_type": "code",
   "execution_count": null,
   "metadata": {},
   "outputs": [],
   "source": []
  },
  {
   "cell_type": "code",
   "execution_count": null,
   "metadata": {},
   "outputs": [],
   "source": []
  },
  {
   "cell_type": "code",
   "execution_count": null,
   "metadata": {},
   "outputs": [],
   "source": []
  },
  {
   "cell_type": "code",
   "execution_count": null,
   "metadata": {},
   "outputs": [],
   "source": []
  },
  {
   "cell_type": "code",
   "execution_count": null,
   "metadata": {},
   "outputs": [],
   "source": []
  },
  {
   "cell_type": "code",
   "execution_count": null,
   "metadata": {},
   "outputs": [],
   "source": [
    "class Numbers:\n",
    "    MULTIPLIER = 3.5\n",
    "\n",
    "    def __init__(self, x, y):\n",
    "        self.x = x\n",
    "        self.y = y\n",
    "\n",
    "    def add(self):\n",
    "        return self.x + self.y\n",
    "\n",
    "    @classmethod\n",
    "    def multiply(cls, a):\n",
    "        return cls.MULTIPLIER * a\n",
    "\n",
    "    @staticmethod\n",
    "    def subtract(b, c):\n",
    "        return b - c\n",
    "\n",
    "    @property\n",
    "    def value(self):\n",
    "        return (self.x, self.y)\n",
    "\n",
    "    @value.setter\n",
    "    def value(self, xy_tuple):\n",
    "        self.x, self.y = xy_tuple\n",
    "\n",
    "    @value.deleter\n",
    "    def value(self):\n",
    "        del self.x\n",
    "        del self.y"
   ]
  },
  {
   "cell_type": "code",
   "execution_count": null,
   "metadata": {},
   "outputs": [],
   "source": [
    "n = Numbers(2, 3)\n",
    "print(n.add())\n",
    "print(Numbers.multiply(5))\n",
    "print(Numbers.subtract(2, 4))\n",
    "print(n.value)\n",
    "n.value = (10, 12)\n",
    "print(n.value)\n",
    "print(n.__dict__)\n",
    "del n.value\n",
    "print(n.__dict__)"
   ]
  }
 ],
 "metadata": {
  "kernelspec": {
   "display_name": "Python 3",
   "language": "python",
   "name": "python3"
  },
  "language_info": {
   "codemirror_mode": {
    "name": "ipython",
    "version": 3
   },
   "file_extension": ".py",
   "mimetype": "text/x-python",
   "name": "python",
   "nbconvert_exporter": "python",
   "pygments_lexer": "ipython3",
   "version": "3.6.7"
  }
 },
 "nbformat": 4,
 "nbformat_minor": 1
}
