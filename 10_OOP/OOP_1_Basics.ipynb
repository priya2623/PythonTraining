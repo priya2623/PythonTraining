{
 "cells": [
  {
   "cell_type": "markdown",
   "metadata": {},
   "source": [
    "# OOP in Python"
   ]
  },
  {
   "cell_type": "markdown",
   "metadata": {},
   "source": [
    "- Procedural programming\n",
    "- Object-Oriented programming (OOP)\n",
    "- OOP is much more similar to the way the real world works\n",
    "- Each program is made up of many entities called objects.\n",
    "- A message must be sent requesting the data"
   ]
  },
  {
   "cell_type": "markdown",
   "metadata": {},
   "source": [
    "## Features of OOP\n",
    "- Ability to simulate real-world event much more effectively\n",
    "- Code is reusable thus less code may have to be written\n",
    "- Better able to create GUI (graphical user interface) applications also WEB (ORM)\n",
    "- Programmers are able to produce faster, more accurate and better-written applications"
   ]
  },
  {
   "cell_type": "markdown",
   "metadata": {},
   "source": [
    "## What is an Object..?\n",
    "- Objects are the basic run-time entities in an object-oriented system.\n",
    "- They may represent a person, a place, a bank account, etc\n",
    "- Objects interact by sending messages to one another.\n",
    "- Objects have two components:\n",
    "    - Data (i.e., attributes)\n",
    "    - Behaviors (i.e., methods)"
   ]
  },
  {
   "cell_type": "markdown",
   "metadata": {},
   "source": [
    "## Attributes and Methods\n",
    "|Attributes|Methods|\n",
    "|----------|--------|\n",
    "|Driver |PickUp|\n",
    "|OnDuty|DropOff|\n",
    "| NumPassengers|GetDriver|\n",
    "| Location|GetNumPassengers|\n",
    "||SetNumPassengers|"
   ]
  },
  {
   "cell_type": "markdown",
   "metadata": {},
   "source": [
    "\n",
    "## Methods and dir()"
   ]
  },
  {
   "cell_type": "code",
   "execution_count": 1,
   "metadata": {},
   "outputs": [
    {
     "name": "stdout",
     "output_type": "stream",
     "text": [
      "['__add__', '__class__', '__contains__', '__delattr__', '__dir__', '__doc__', '__eq__', '__format__', '__ge__', '__getattribute__', '__getitem__', '__getnewargs__', '__gt__', '__hash__', '__init__', '__init_subclass__', '__iter__', '__le__', '__len__', '__lt__', '__mod__', '__mul__', '__ne__', '__new__', '__reduce__', '__reduce_ex__', '__repr__', '__rmod__', '__rmul__', '__setattr__', '__sizeof__', '__str__', '__subclasshook__', 'capitalize', 'casefold', 'center', 'count', 'encode', 'endswith', 'expandtabs', 'find', 'format', 'format_map', 'index', 'isalnum', 'isalpha', 'isdecimal', 'isdigit', 'isidentifier', 'islower', 'isnumeric', 'isprintable', 'isspace', 'istitle', 'isupper', 'join', 'ljust', 'lower', 'lstrip', 'maketrans', 'partition', 'replace', 'rfind', 'rindex', 'rjust', 'rpartition', 'rsplit', 'rstrip', 'split', 'splitlines', 'startswith', 'strip', 'swapcase', 'title', 'translate', 'upper', 'zfill']\n"
     ]
    }
   ],
   "source": [
    "my_str = \"Hello World!\"\n",
    "print(dir(my_str))"
   ]
  },
  {
   "cell_type": "code",
   "execution_count": null,
   "metadata": {
    "scrolled": true
   },
   "outputs": [],
   "source": [
    "# l = [\"hello\", \"hola\", \"world\"]\n",
    "# for each in l:\n",
    "#     if each.startswith(\"h\"):\n",
    "#         print(each)\n",
    "\n",
    "x = \"Hello World\"\n",
    "print(x.split(\" \"))"
   ]
  },
  {
   "cell_type": "markdown",
   "metadata": {},
   "source": [
    "## What's `'__***__'` ?"
   ]
  },
  {
   "cell_type": "markdown",
   "metadata": {},
   "source": [
    "- dunder (double under) or \"special/magic\"\n",
    "- methods determine what will happen when + ( \\_\\_add\\_\\_ ) or / ( \\_\\_div\\_\\_ ) is called."
   ]
  },
  {
   "cell_type": "markdown",
   "metadata": {},
   "source": [
    "# Class"
   ]
  },
  {
   "cell_type": "markdown",
   "metadata": {},
   "source": [
    "## What is a Class..?\n",
    "- A class is a prototype/blue print which defines how to build a certain kind of object.\n",
    "- The class also stores some data items that are shared by all the instances of this class (attributes)\n",
    "- Instances are objects that are created which follow the definition given inside of the class"
   ]
  },
  {
   "cell_type": "code",
   "execution_count": 7,
   "metadata": {},
   "outputs": [],
   "source": [
    "#!/usr/bin/python3\n",
    "class MyFirstClass:\n",
    "    \"\"\"This is a doc string abc\"\"\"\n",
    "    pass"
   ]
  },
  {
   "cell_type": "code",
   "execution_count": 4,
   "metadata": {},
   "outputs": [
    {
     "name": "stdout",
     "output_type": "stream",
     "text": [
      "Help on MyFirstClass in module __main__ object:\n",
      "\n",
      "class MyFirstClass(builtins.object)\n",
      " |  This is a doc string abc\n",
      " |  \n",
      " |  Data descriptors defined here:\n",
      " |  \n",
      " |  __dict__\n",
      " |      dictionary for instance variables (if defined)\n",
      " |  \n",
      " |  __weakref__\n",
      " |      list of weak references to the object (if defined)\n",
      "\n"
     ]
    }
   ],
   "source": [
    "# Insatances / objects\n",
    "a = MyFirstClass()\n",
    "b = MyFirstClass()\n",
    "print(a.__doc__)"
   ]
  },
  {
   "cell_type": "code",
   "execution_count": 8,
   "metadata": {},
   "outputs": [
    {
     "name": "stdout",
     "output_type": "stream",
     "text": [
      "['__class__', '__delattr__', '__dir__', '__doc__', '__eq__', '__format__', '__ge__', '__getattribute__', '__gt__', '__hash__', '__init__', '__init_subclass__', '__le__', '__lt__', '__ne__', '__new__', '__reduce__', '__reduce_ex__', '__repr__', '__setattr__', '__sizeof__', '__str__', '__subclasshook__']\n"
     ]
    }
   ],
   "source": [
    "print(dir(object))"
   ]
  },
  {
   "cell_type": "code",
   "execution_count": 12,
   "metadata": {
    "scrolled": true
   },
   "outputs": [
    {
     "name": "stdout",
     "output_type": "stream",
     "text": [
      "{}\n",
      "This is a doc string abc\n",
      "285016454\n",
      "32\n"
     ]
    }
   ],
   "source": [
    "# print(dir(a))\n",
    "print(a.__dict__)\n",
    "print(a.__doc__)\n",
    "print(a.__hash__())\n",
    "print(a.__sizeof__())\n",
    "#print(a.__str__())"
   ]
  },
  {
   "cell_type": "markdown",
   "metadata": {},
   "source": [
    "## Class with attributes"
   ]
  },
  {
   "cell_type": "code",
   "execution_count": 17,
   "metadata": {},
   "outputs": [
    {
     "name": "stdout",
     "output_type": "stream",
     "text": [
      "5 4\n",
      "3 6\n",
      "3\n"
     ]
    },
    {
     "ename": "AttributeError",
     "evalue": "'Point' object has no attribute 'c'",
     "output_type": "error",
     "traceback": [
      "\u001b[0;31m---------------------------------------------------------------------------\u001b[0m",
      "\u001b[0;31mAttributeError\u001b[0m                            Traceback (most recent call last)",
      "\u001b[0;32m<ipython-input-17-adc34804f12e>\u001b[0m in \u001b[0;36m<module>\u001b[0;34m\u001b[0m\n\u001b[1;32m     17\u001b[0m \u001b[0mprint\u001b[0m\u001b[0;34m(\u001b[0m\u001b[0mp2\u001b[0m\u001b[0;34m.\u001b[0m\u001b[0mx\u001b[0m\u001b[0;34m,\u001b[0m \u001b[0mp2\u001b[0m\u001b[0;34m.\u001b[0m\u001b[0my\u001b[0m\u001b[0;34m)\u001b[0m\u001b[0;34m\u001b[0m\u001b[0;34m\u001b[0m\u001b[0m\n\u001b[1;32m     18\u001b[0m \u001b[0mprint\u001b[0m\u001b[0;34m(\u001b[0m\u001b[0mp1\u001b[0m\u001b[0;34m.\u001b[0m\u001b[0ma\u001b[0m\u001b[0;34m)\u001b[0m\u001b[0;34m\u001b[0m\u001b[0;34m\u001b[0m\u001b[0m\n\u001b[0;32m---> 19\u001b[0;31m \u001b[0mprint\u001b[0m\u001b[0;34m(\u001b[0m\u001b[0mp2\u001b[0m\u001b[0;34m.\u001b[0m\u001b[0mc\u001b[0m\u001b[0;34m)\u001b[0m\u001b[0;34m\u001b[0m\u001b[0;34m\u001b[0m\u001b[0m\n\u001b[0m",
      "\u001b[0;31mAttributeError\u001b[0m: 'Point' object has no attribute 'c'"
     ]
    }
   ],
   "source": [
    "class Point:\n",
    "    pass\n",
    "\n",
    "p1 = Point()\n",
    "p2 = Point()\n",
    "\n",
    "Point.a = 3\n",
    "\n",
    "p1.x = 5\n",
    "p1.y = 4\n",
    "p1.c = 10\n",
    "\n",
    "p2.x = 3\n",
    "p2.y = 6\n",
    "\n",
    "print(p1.x, p1.y)\n",
    "print(p2.x, p2.y)\n",
    "print(p1.a)\n",
    "print(p2.c)"
   ]
  },
  {
   "cell_type": "markdown",
   "metadata": {},
   "source": [
    "# Class with method"
   ]
  },
  {
   "cell_type": "code",
   "execution_count": 18,
   "metadata": {},
   "outputs": [
    {
     "name": "stdout",
     "output_type": "stream",
     "text": [
      "5 4\n",
      "0 0\n"
     ]
    }
   ],
   "source": [
    "class Point:\n",
    "    def reset(self):\n",
    "        self.x = 0\n",
    "        self.y = 0\n",
    "\n",
    "p = Point()\n",
    "p2 = Point()\n",
    "p.x = 5\n",
    "p.y = 4\n",
    "print(p.x, p.y)\n",
    "p.reset()\n",
    "p2.reset()\n",
    "print(p.x, p.y)"
   ]
  },
  {
   "cell_type": "code",
   "execution_count": 29,
   "metadata": {},
   "outputs": [],
   "source": [
    "class SumMul:\n",
    "    def sumof(self, x,y):\n",
    "        return x+y\n",
    "    def mulof(self, x,y):\n",
    "        return x*y"
   ]
  },
  {
   "cell_type": "code",
   "execution_count": 42,
   "metadata": {},
   "outputs": [
    {
     "data": {
      "text/plain": [
       "7"
      ]
     },
     "execution_count": 42,
     "metadata": {},
     "output_type": "execute_result"
    }
   ],
   "source": [
    "obj = SumMul()\n",
    "obj.sumof(3,4)"
   ]
  },
  {
   "cell_type": "code",
   "execution_count": 43,
   "metadata": {},
   "outputs": [],
   "source": [
    "class SumMul:\n",
    "    def __init__(self, x, y):\n",
    "        self.x = x\n",
    "        self.y = y\n",
    "    def sumof(self):\n",
    "        return self.x+self.y\n",
    "    def mulof(self):\n",
    "        return self.x*self.y"
   ]
  },
  {
   "cell_type": "code",
   "execution_count": 45,
   "metadata": {},
   "outputs": [
    {
     "name": "stdout",
     "output_type": "stream",
     "text": [
      "9\n",
      "20\n"
     ]
    }
   ],
   "source": [
    "obj = SumMul(4, 5)\n",
    "print(obj.sumof())\n",
    "print(obj.mulof())"
   ]
  },
  {
   "cell_type": "code",
   "execution_count": null,
   "metadata": {},
   "outputs": [],
   "source": [
    "# Invoking method statically\n",
    "class Point:\n",
    "    def reset(self):\n",
    "        self.x = 0\n",
    "        self.y = 0\n",
    "\n",
    "p = Point()\n",
    "Point.reset(p)\n",
    "print(p.x, p.y)"
   ]
  },
  {
   "cell_type": "markdown",
   "metadata": {},
   "source": [
    "# The proper python class"
   ]
  },
  {
   "cell_type": "markdown",
   "metadata": {},
   "source": [
    "- By convention, the class name should start with Capital letter\n",
    "- The class also stores some data items that are shared by all the instances of this class\n",
    "- Instances are objects that are created which follow the definition given inside of the class\n",
    "- Define a method in a class by including function definitions (def) within the scope of the class block\n",
    "- There must be a special first argument `self` in all of method definitions which gets bound to the calling instance\n",
    "- There is usually a special method called `__init__` in most classes.\n",
    "- `__init__` is the constructor"
   ]
  },
  {
   "cell_type": "code",
   "execution_count": 34,
   "metadata": {},
   "outputs": [],
   "source": [
    "class Employee:\n",
    "    \"\"\" This is a doc string for Employee class\"\"\"\n",
    "    def __init__(self, first, last, pay=1000, *args, **kwargs):\n",
    "        # here self is the automatically invoked instance to the method\n",
    "        self.first_name = first\n",
    "        self.last_name = last\n",
    "        self.pay = pay\n",
    "        # email can be derived from the \"first\" and \"last\" name\n",
    "        self.email = self.first_name+\".\"+self.last_name+\"@company.com\"\n",
    "\n",
    "    # a method that returns fullname. self is a must for any method\n",
    "    def fullname(self):\n",
    "        return \"{0} {1}\".format(self.first_name, self.last_name)"
   ]
  },
  {
   "cell_type": "markdown",
   "metadata": {},
   "source": [
    "- `__init__` is the default constructor\n",
    "- `__init__` serves as a constructor for the class. \n",
    "- Usually does some initialization work\n",
    "- An `__init__` method can take any number of arguments\n",
    "- However, the first argument self in the definition of `__init__` is special"
   ]
  },
  {
   "cell_type": "code",
   "execution_count": 35,
   "metadata": {},
   "outputs": [],
   "source": [
    "# instances with data\n",
    "emp_1 = Employee(\"Sagar\", \"Giri\", 50000)\n",
    "emp_2 = Employee(\"Test\", \"User\")"
   ]
  },
  {
   "cell_type": "code",
   "execution_count": 41,
   "metadata": {},
   "outputs": [
    {
     "name": "stdout",
     "output_type": "stream",
     "text": [
      "Sagar Giri\n"
     ]
    },
    {
     "data": {
      "text/plain": [
       "'Sagar'"
      ]
     },
     "execution_count": 41,
     "metadata": {},
     "output_type": "execute_result"
    }
   ],
   "source": [
    "# print(emp_1.__dict__)\n",
    "# print(dir(emp_1))\n",
    "# print(emp_2.email)\n",
    "print(emp_1.fullname())\n",
    "emp_1.first_name"
   ]
  },
  {
   "cell_type": "code",
   "execution_count": null,
   "metadata": {},
   "outputs": [],
   "source": [
    "# While calling a methods, don't forget the parenthesis\n",
    "print(emp_1.fullname())\n",
    "print(emp_2.fullname())"
   ]
  },
  {
   "cell_type": "code",
   "execution_count": 46,
   "metadata": {},
   "outputs": [
    {
     "name": "stdout",
     "output_type": "stream",
     "text": [
      "Directly from class--->  Sagar Giri\n",
      "Directly from class--->  Test User\n"
     ]
    }
   ],
   "source": [
    "# calling method directly from class.\n",
    "# To do so, we need to pass the instance we created.\n",
    "# Remember the self we added in the method :)\n",
    "print(\"Directly from class---> \",Employee.fullname(emp_1))\n",
    "print(\"Directly from class---> \",Employee.fullname(emp_2))"
   ]
  },
  {
   "cell_type": "code",
   "execution_count": 60,
   "metadata": {},
   "outputs": [],
   "source": [
    "class Alto(object):\n",
    "    def engine(self):\n",
    "        return '800cc'\n",
    "    def maker(self):\n",
    "        return \"Maruti\""
   ]
  },
  {
   "cell_type": "code",
   "execution_count": 61,
   "metadata": {},
   "outputs": [],
   "source": [
    "obj = Alto()"
   ]
  },
  {
   "cell_type": "code",
   "execution_count": 62,
   "metadata": {},
   "outputs": [
    {
     "data": {
      "text/plain": [
       "'800cc'"
      ]
     },
     "execution_count": 62,
     "metadata": {},
     "output_type": "execute_result"
    }
   ],
   "source": [
    "obj.engine()"
   ]
  },
  {
   "cell_type": "code",
   "execution_count": 80,
   "metadata": {},
   "outputs": [],
   "source": [
    "class AltoNextGen(Alto):\n",
    "    def engine(self):\n",
    "        return \"1000cc\"\n",
    "    def _automatic(self):\n",
    "        return True"
   ]
  },
  {
   "cell_type": "code",
   "execution_count": 81,
   "metadata": {},
   "outputs": [],
   "source": [
    "obj = AltoNextGen()"
   ]
  },
  {
   "cell_type": "code",
   "execution_count": 82,
   "metadata": {},
   "outputs": [
    {
     "data": {
      "text/plain": [
       "'1000cc'"
      ]
     },
     "execution_count": 82,
     "metadata": {},
     "output_type": "execute_result"
    }
   ],
   "source": [
    "obj.engine()"
   ]
  },
  {
   "cell_type": "code",
   "execution_count": 83,
   "metadata": {},
   "outputs": [
    {
     "data": {
      "text/plain": [
       "'Maruti'"
      ]
     },
     "execution_count": 83,
     "metadata": {},
     "output_type": "execute_result"
    }
   ],
   "source": [
    "obj.maker()"
   ]
  },
  {
   "cell_type": "code",
   "execution_count": 84,
   "metadata": {},
   "outputs": [
    {
     "data": {
      "text/plain": [
       "True"
      ]
     },
     "execution_count": 84,
     "metadata": {},
     "output_type": "execute_result"
    }
   ],
   "source": [
    "obj._automatic()"
   ]
  },
  {
   "cell_type": "code",
   "execution_count": null,
   "metadata": {},
   "outputs": [],
   "source": []
  }
 ],
 "metadata": {
  "kernelspec": {
   "display_name": "Python 3",
   "language": "python",
   "name": "python3"
  },
  "language_info": {
   "codemirror_mode": {
    "name": "ipython",
    "version": 3
   },
   "file_extension": ".py",
   "mimetype": "text/x-python",
   "name": "python",
   "nbconvert_exporter": "python",
   "pygments_lexer": "ipython3",
   "version": "3.6.7"
  }
 },
 "nbformat": 4,
 "nbformat_minor": 1
}
