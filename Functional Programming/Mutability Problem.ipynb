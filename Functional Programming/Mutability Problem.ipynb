{
 "cells": [
  {
   "cell_type": "markdown",
   "metadata": {},
   "source": [
    "## Mutable datastructure\n",
    "\n",
    "- They are bad for multithreaded programming because it can be changed midway of our program execution.\n",
    "- If we have to use **Mutable datastructure** in out threaded program, we have to lock it.\n",
    "- Mutable datstrutucres are:\n",
    "    - Lists\n",
    "    - Set\n",
    "    - Dictionaries"
   ]
  },
  {
   "cell_type": "code",
   "execution_count": null,
   "metadata": {},
   "outputs": [],
   "source": [
    "scientists = [\n",
    "    {\"name\": \"Ada Lovelace\", \"field\":\"mathematics\", \"born\":1815, \"nobel_prize\": False},\n",
    "    {\"name\": \"Emmy Noether\", \"field\":\"mathematics\", \"born\":1882, \"nobel_prize\": False},\n",
    "]"
   ]
  },
  {
   "cell_type": "code",
   "execution_count": null,
   "metadata": {},
   "outputs": [],
   "source": [
    "# the scientists datastructure can be modified\n",
    "scientists[0]['name'] = 'Ed Lovelace'"
   ]
  },
  {
   "cell_type": "markdown",
   "metadata": {},
   "source": [
    "In above case, we can create a dictionary with entirely different key name and assign to the `scientist` list which may break our code and the data is incosistent. For example:"
   ]
  },
  {
   "cell_type": "code",
   "execution_count": null,
   "metadata": {},
   "outputs": [],
   "source": [
    "d = {\"nmae\": \"Albert Einstein\", \"field\":\"physics\", \"born\":1000, \"nobel_prize\": False}\n",
    "scientists.append(d) # append wrong dictionary to the scientist list\n",
    "scientists[2]['name']"
   ]
  },
  {
   "cell_type": "markdown",
   "metadata": {},
   "source": [
    "We can handle such errors during compile time by using `namedtuple`. Here's how:"
   ]
  },
  {
   "cell_type": "code",
   "execution_count": null,
   "metadata": {},
   "outputs": [],
   "source": [
    "import collections\n",
    "\n",
    "Scientist = collections.namedtuple('Scientist', [\n",
    "    'name',\n",
    "    'field',\n",
    "    'born',\n",
    "    'nobel_prize'\n",
    "]) # namedtuple function is a factory function to create a named tuple"
   ]
  },
  {
   "cell_type": "code",
   "execution_count": null,
   "metadata": {},
   "outputs": [],
   "source": [
    "ada = Scientist(name=\"Ada Lovelace\", field=\"mathematics\", born=1815, nobel_prize=False)\n",
    "emmy = Scientist(name=\"Emmy Noether\", field=\"mathematics\", born=1882, nobel_prize=False)"
   ]
  },
  {
   "cell_type": "code",
   "execution_count": null,
   "metadata": {
    "scrolled": true
   },
   "outputs": [],
   "source": [
    "# We can access values from each object.\n",
    "print(ada.name)\n",
    "print(ada.born)"
   ]
  },
  {
   "cell_type": "code",
   "execution_count": null,
   "metadata": {},
   "outputs": [],
   "source": [
    "# Also we cannot change the values of object externally\n",
    "\n",
    "ada.name = 'Ed lovcelace'"
   ]
  },
  {
   "cell_type": "markdown",
   "metadata": {},
   "source": [
    "# Immutable datastructure"
   ]
  },
  {
   "cell_type": "code",
   "execution_count": null,
   "metadata": {},
   "outputs": [],
   "source": [
    "from pprint import pprint\n",
    "\n",
    "scientist_list = [\n",
    "    Scientist(name=\"Ada Lovelace\", field=\"mathematics\", born=1815, nobel_prize=False),\n",
    "    Scientist(name=\"Emmy Noether\", field=\"mathematics\", born=1882, nobel_prize=False)\n",
    "]\n",
    "\n",
    "pprint(scientist_list)"
   ]
  },
  {
   "cell_type": "markdown",
   "metadata": {},
   "source": [
    "Now, we cannot set value for object in the scientist_list externally."
   ]
  },
  {
   "cell_type": "code",
   "execution_count": null,
   "metadata": {},
   "outputs": [],
   "source": [
    "scientist_list[0].name = 'Ed Lovelace'"
   ]
  },
  {
   "cell_type": "code",
   "execution_count": null,
   "metadata": {},
   "outputs": [],
   "source": [
    "# But, we can delete the object because scientist_list is still mutable \n",
    "del scientist_list[0]"
   ]
  },
  {
   "cell_type": "markdown",
   "metadata": {},
   "source": [
    "So, a better way is to use immutable datastructure to hold these objects instead of mutable datastructure List. In Python, `tuple` is the immutable datastructure. Above code can be changed to:"
   ]
  },
  {
   "cell_type": "code",
   "execution_count": null,
   "metadata": {},
   "outputs": [],
   "source": [
    "from pprint import pprint\n",
    "\n",
    "scientist_tuple = (\n",
    "    Scientist(name=\"Ada Lovelace\", field=\"mathematics\", born=1815, nobel_prize=False),\n",
    "    Scientist(name=\"Emmy Noether\", field=\"mathematics\", born=1882, nobel_prize=False)\n",
    ")\n",
    "\n",
    "pprint(scientist_tuple)"
   ]
  },
  {
   "cell_type": "code",
   "execution_count": null,
   "metadata": {},
   "outputs": [],
   "source": [
    "# Now, we can access everything but, cannot delete the object as well\n",
    "del scientist_tuple[0]"
   ]
  }
 ],
 "metadata": {
  "kernelspec": {
   "display_name": "Python 3",
   "language": "python",
   "name": "python3"
  },
  "language_info": {
   "codemirror_mode": {
    "name": "ipython",
    "version": 3
   },
   "file_extension": ".py",
   "mimetype": "text/x-python",
   "name": "python",
   "nbconvert_exporter": "python",
   "pygments_lexer": "ipython3",
   "version": "3.6.4"
  }
 },
 "nbformat": 4,
 "nbformat_minor": 2
}
