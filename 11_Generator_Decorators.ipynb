{
 "cells": [
  {
   "cell_type": "markdown",
   "metadata": {},
   "source": [
    "# Generators"
   ]
  },
  {
   "cell_type": "markdown",
   "metadata": {},
   "source": [
    "- Generators look like functions, but there is both a syntactical and a semantic difference. \n",
    "\n",
    "- Instead of return statements you will find inside of the body of a generator only yield statements \n",
    "- **Generators are not iterables but they are iterators**\n",
    "- [Python | Difference between iterable and iterator](https://www.geeksforgeeks.org/python-difference-iterable-iterator/)"
   ]
  },
  {
   "cell_type": "code",
   "execution_count": 8,
   "metadata": {},
   "outputs": [
    {
     "name": "stdout",
     "output_type": "stream",
     "text": [
      "45\n",
      "46\n"
     ]
    }
   ],
   "source": [
    "def func():\n",
    "    return 42\n",
    "\n",
    "def gen():\n",
    "    yield 45\n",
    "    yield 46\n",
    "\n",
    "for i in gen():\n",
    "    print(i)"
   ]
  },
  {
   "cell_type": "code",
   "execution_count": 6,
   "metadata": {},
   "outputs": [
    {
     "name": "stdout",
     "output_type": "stream",
     "text": [
      "45\n",
      "46\n"
     ]
    }
   ],
   "source": [
    "f = func()\n",
    "g = gen()\n",
    "\n",
    "for thing in g:\n",
    "    print(thing)"
   ]
  },
  {
   "cell_type": "code",
   "execution_count": 7,
   "metadata": {},
   "outputs": [],
   "source": [
    "for thing in g:\n",
    "    print(thing)"
   ]
  },
  {
   "cell_type": "code",
   "execution_count": 8,
   "metadata": {},
   "outputs": [
    {
     "name": "stdout",
     "output_type": "stream",
     "text": [
      "45\n",
      "46\n"
     ]
    }
   ],
   "source": [
    "def gen():\n",
    "    yield 45\n",
    "    yield 46\n",
    "g2 = gen()\n",
    "print(next(g2))\n",
    "print(next(g2))"
   ]
  },
  {
   "cell_type": "code",
   "execution_count": 10,
   "metadata": {
    "scrolled": true
   },
   "outputs": [
    {
     "name": "stdout",
     "output_type": "stream",
     "text": [
      "1\n",
      "3\n",
      "4\n"
     ]
    }
   ],
   "source": [
    "def my_gen():\n",
    "    yield 1\n",
    "    i = 3\n",
    "    yield i\n",
    "    i += 1\n",
    "    yield i\n",
    "\n",
    "g = my_gen()\n",
    "for each in g:\n",
    "    print(each)\n",
    "    "
   ]
  },
  {
   "cell_type": "code",
   "execution_count": 9,
   "metadata": {
    "scrolled": true
   },
   "outputs": [
    {
     "name": "stdout",
     "output_type": "stream",
     "text": [
      "<class 'generator'>\n",
      "4\n",
      "5\n"
     ]
    },
    {
     "ename": "StopIteration",
     "evalue": "",
     "output_type": "error",
     "traceback": [
      "\u001b[0;31m---------------------------------------------------------------------------\u001b[0m",
      "\u001b[0;31mStopIteration\u001b[0m                             Traceback (most recent call last)",
      "\u001b[0;32m<ipython-input-9-1551497816b1>\u001b[0m in \u001b[0;36m<module>\u001b[0;34m\u001b[0m\n\u001b[1;32m      5\u001b[0m \u001b[0;34m\u001b[0m\u001b[0m\n\u001b[1;32m      6\u001b[0m \u001b[0;31m# Under the hood\u001b[0m\u001b[0;34m\u001b[0m\u001b[0;34m\u001b[0m\u001b[0;34m\u001b[0m\u001b[0m\n\u001b[0;32m----> 7\u001b[0;31m \u001b[0mprint\u001b[0m\u001b[0;34m(\u001b[0m\u001b[0mnext\u001b[0m\u001b[0;34m(\u001b[0m\u001b[0mcomprehension_gen\u001b[0m\u001b[0;34m)\u001b[0m\u001b[0;34m)\u001b[0m\u001b[0;34m\u001b[0m\u001b[0;34m\u001b[0m\u001b[0m\n\u001b[0m\u001b[1;32m      8\u001b[0m \u001b[0mprint\u001b[0m\u001b[0;34m(\u001b[0m\u001b[0mnext\u001b[0m\u001b[0;34m(\u001b[0m\u001b[0mcomprehension_gen\u001b[0m\u001b[0;34m)\u001b[0m\u001b[0;34m)\u001b[0m\u001b[0;34m\u001b[0m\u001b[0;34m\u001b[0m\u001b[0m\n\u001b[1;32m      9\u001b[0m \u001b[0mprint\u001b[0m\u001b[0;34m(\u001b[0m\u001b[0mnext\u001b[0m\u001b[0;34m(\u001b[0m\u001b[0mcomprehension_gen\u001b[0m\u001b[0;34m)\u001b[0m\u001b[0;34m)\u001b[0m  \u001b[0;31m# Throws StopIteration means the loop should stop\u001b[0m\u001b[0;34m\u001b[0m\u001b[0;34m\u001b[0m\u001b[0m\n",
      "\u001b[0;31mStopIteration\u001b[0m: "
     ]
    }
   ],
   "source": [
    "comprehension_gen = (x for x in range(4, 6))\n",
    "print(type(comprehension_gen))\n",
    "for each in comprehension_gen:\n",
    "    print(each)\n",
    "\n",
    "# Under the hood\n",
    "print(next(comprehension_gen))\n",
    "print(next(comprehension_gen))\n",
    "print(next(comprehension_gen))  # Throws StopIteration means the loop should stop"
   ]
  },
  {
   "cell_type": "code",
   "execution_count": 12,
   "metadata": {},
   "outputs": [
    {
     "name": "stdout",
     "output_type": "stream",
     "text": [
      "<generator object <genexpr> at 0x10fd9a200>\n"
     ]
    }
   ],
   "source": [
    "l = (x for x in range(1, 10000))\n",
    "print(l)"
   ]
  },
  {
   "cell_type": "code",
   "execution_count": 13,
   "metadata": {},
   "outputs": [
    {
     "name": "stdout",
     "output_type": "stream",
     "text": [
      "Memory consumed by list l:  87600\n",
      "Memory consumed by generator g:  64\n"
     ]
    }
   ],
   "source": [
    "l = [x for x in range(1, 10000)]\n",
    "g = (x for x in range(1, 10000))\n",
    "\n",
    "print(\"Memory consumed by list l: \", l.__sizeof__())\n",
    "print(\"Memory consumed by generator g: \", g.__sizeof__())"
   ]
  },
  {
   "cell_type": "code",
   "execution_count": 20,
   "metadata": {},
   "outputs": [
    {
     "name": "stdout",
     "output_type": "stream",
     "text": [
      "egg\n",
      "chicken\n"
     ]
    },
    {
     "ename": "StopIteration",
     "evalue": "",
     "output_type": "error",
     "traceback": [
      "\u001b[0;31m---------------------------------------------------------------------------\u001b[0m",
      "\u001b[0;31mStopIteration\u001b[0m                             Traceback (most recent call last)",
      "\u001b[0;32m<ipython-input-20-f78635c247b7>\u001b[0m in \u001b[0;36m<module>\u001b[0;34m\u001b[0m\n\u001b[1;32m      6\u001b[0m \u001b[0mprint\u001b[0m\u001b[0;34m(\u001b[0m\u001b[0mnext\u001b[0m\u001b[0;34m(\u001b[0m\u001b[0mg\u001b[0m\u001b[0;34m)\u001b[0m\u001b[0;34m)\u001b[0m\u001b[0;34m\u001b[0m\u001b[0;34m\u001b[0m\u001b[0m\n\u001b[1;32m      7\u001b[0m \u001b[0mprint\u001b[0m\u001b[0;34m(\u001b[0m\u001b[0mnext\u001b[0m\u001b[0;34m(\u001b[0m\u001b[0mg\u001b[0m\u001b[0;34m)\u001b[0m\u001b[0;34m)\u001b[0m\u001b[0;34m\u001b[0m\u001b[0;34m\u001b[0m\u001b[0m\n\u001b[0;32m----> 8\u001b[0;31m \u001b[0mprint\u001b[0m\u001b[0;34m(\u001b[0m\u001b[0mnext\u001b[0m\u001b[0;34m(\u001b[0m\u001b[0mg\u001b[0m\u001b[0;34m)\u001b[0m\u001b[0;34m)\u001b[0m\u001b[0;34m\u001b[0m\u001b[0;34m\u001b[0m\u001b[0m\n\u001b[0m",
      "\u001b[0;31mStopIteration\u001b[0m: "
     ]
    }
   ],
   "source": [
    "def my_gen():\n",
    "    yield 'egg'\n",
    "    yield \"chicken\"\n",
    "    \n",
    "g = my_gen()\n",
    "print(next(g))\n",
    "print(next(g))\n",
    "print(next(g))"
   ]
  },
  {
   "cell_type": "code",
   "execution_count": 15,
   "metadata": {},
   "outputs": [
    {
     "name": "stdout",
     "output_type": "stream",
     "text": [
      "44\n",
      "11\n",
      "12\n"
     ]
    }
   ],
   "source": [
    "def my_gen(val):\n",
    "    yield val + 34\n",
    "    i = 3\n",
    "    yield val + 1\n",
    "    i += 1\n",
    "    yield val + 2\n",
    "\n",
    "g = my_gen(10)\n",
    "print(next(g))\n",
    "print(next(g))\n",
    "print(next(g))"
   ]
  },
  {
   "cell_type": "markdown",
   "metadata": {},
   "source": [
    "---\n",
    "Q1. Write a program using generator to print the numbers which can be divisible by 5 and 7 between 0 and n in comma separated form while n is input by console.\n",
    "\n",
    "Example:\n",
    "If the following n is given as input to the program:\n",
    "**100**\n",
    "\n",
    "Then, the output of the program should be:\n",
    "**0,35,70**\n",
    "\n",
    "---\n",
    "Q2. Write a program using generator to print the even numbers between 0 and n in comma separated form while n is input by console."
   ]
  },
  {
   "cell_type": "markdown",
   "metadata": {},
   "source": [
    "# Decorators"
   ]
  },
  {
   "cell_type": "markdown",
   "metadata": {},
   "source": [
    "### But, first more about the functions.\n",
    "- Functions are first class object in Python\n",
    "- Meaning, they can be:\n",
    "    - can be treated as variable's value\n",
    "    - passed as an argument to another function and can be executed inside\n",
    "    - can be returned from another object"
   ]
  },
  {
   "cell_type": "code",
   "execution_count": 16,
   "metadata": {},
   "outputs": [
    {
     "name": "stdout",
     "output_type": "stream",
     "text": [
      "Inner executed\n",
      "Hello World!\n"
     ]
    }
   ],
   "source": [
    "def my_func():\n",
    "    print(\"Hello World!\")\n",
    "\n",
    "def outer(arg_func): # function as an argument\n",
    "    def inner():     # defined nested function\n",
    "        print(\"Inner executed\")\n",
    "        arg_func()   # execute arg_func inside the inner func\n",
    "    return inner # return the inner function as a value\n",
    "\n",
    "m = my_func # function assigned as a variable's value\n",
    "o = outer\n",
    "r = o(m) # passing function to another function\n",
    "r() # this is executing the inner() function"
   ]
  },
  {
   "cell_type": "code",
   "execution_count": 17,
   "metadata": {},
   "outputs": [
    {
     "name": "stdout",
     "output_type": "stream",
     "text": [
      "1\n",
      "2\n",
      "3\n",
      "name Sagar\n",
      "age 25\n",
      "[10, 11, 12, 13]\n"
     ]
    }
   ],
   "source": [
    "def my_func(*args, **kwargs):\n",
    "    for each in args:\n",
    "        print(each)\n",
    "    for k, v in kwargs.items():\n",
    "        print(k, v)\n",
    "\n",
    "my_func()\n",
    "my_func(1, 2, 3)\n",
    "my_func(name=\"Sagar\", age=25)\n",
    "my_func([10, 11, 12, 13])"
   ]
  },
  {
   "cell_type": "markdown",
   "metadata": {},
   "source": [
    "## Decorators"
   ]
  },
  {
   "cell_type": "code",
   "execution_count": 18,
   "metadata": {},
   "outputs": [
    {
     "name": "stdout",
     "output_type": "stream",
     "text": [
      "before some_function()\n",
      "Hello!\n",
      "after some_function()\n"
     ]
    }
   ],
   "source": [
    "def my_decorator(some_function):\n",
    "    def wrapper():\n",
    "        print(\"before some_function()\")\n",
    "        some_function()\n",
    "        print(\"after some_function()\")\n",
    "    return wrapper\n",
    "\n",
    "@my_decorator\n",
    "def just_some_function():\n",
    "    print(\"Hello!\")\n",
    "\n",
    "just_some_function()"
   ]
  },
  {
   "cell_type": "code",
   "execution_count": 30,
   "metadata": {},
   "outputs": [
    {
     "name": "stdout",
     "output_type": "stream",
     "text": [
      "Hello!\n",
      "time taken is 0.00017213821411132812\n",
      "Hello!\n",
      "time taken is 3.075599670410156e-05\n"
     ]
    }
   ],
   "source": [
    "import time\n",
    "def my_decorator(fn):\n",
    "    def wrapper():\n",
    "        st = time.time()\n",
    "        fn()\n",
    "        print(\"time taken is %s\"%(time.time()-st))\n",
    "    return wrapper\n",
    "\n",
    "@my_decorator\n",
    "def just_some_function():\n",
    "    print(\"Hello!\")\n",
    "\n",
    "@my_decorator\n",
    "def xyz():\n",
    "    print(\"Hello!\")\n",
    "    \n",
    "just_some_function()\n",
    "xyz()"
   ]
  },
  {
   "cell_type": "code",
   "execution_count": 20,
   "metadata": {},
   "outputs": [],
   "source": [
    "def calc_square(numbers):\n",
    "    return [n**2 for n in numbers]\n",
    "\n",
    "def calc_cube(numbers):\n",
    "    return [n**3 for n in numbers]\n",
    "\n",
    "nums = range(1, 10000)\n",
    "squares = calc_square(nums)\n",
    "cube = calc_cube(nums)"
   ]
  },
  {
   "cell_type": "code",
   "execution_count": 21,
   "metadata": {},
   "outputs": [
    {
     "name": "stdout",
     "output_type": "stream",
     "text": [
      "Calc square took: 8.582830429077148 ms\n",
      "Calc cube took: 6.841897964477539 ms\n"
     ]
    }
   ],
   "source": [
    "import time\n",
    "\n",
    "def calc_square(numbers):\n",
    "    start = time.time()\n",
    "    result = [n**2 for n in numbers]\n",
    "    end = time.time()\n",
    "    print(\"Calc square took: {} ms\".format(((end-start)*1000)))\n",
    "    \n",
    "def calc_cube(numbers):\n",
    "    start = time.time()\n",
    "    result = [n**3 for n in numbers]\n",
    "    end = time.time()\n",
    "    print(\"Calc cube took: {} ms\".format(((end-start)*1000)))\n",
    "\n",
    "nums = range(1, 10000)\n",
    "squares = calc_square(nums)\n",
    "cube = calc_cube(nums)"
   ]
  },
  {
   "cell_type": "markdown",
   "metadata": {},
   "source": [
    "- Decoratoers help us to:\n",
    "    - deal with duplicate code\n",
    "    - deal with the code that are interfering with our logic\n",
    "    - add additional functionality to our code without modifying"
   ]
  },
  {
   "cell_type": "code",
   "execution_count": null,
   "metadata": {},
   "outputs": [],
   "source": [
    "import time\n",
    "\n",
    "def time_it(func):\n",
    "    def wrapper(*args, **kwargs):\n",
    "        start = time.time()\n",
    "        result = func(*args, **kwargs)\n",
    "        end = time.time()\n",
    "        print(\"{} took: {:.2f} ms\".format(func.__name__, ((end-start)*1000)))\n",
    "        return result\n",
    "    return wrapper\n",
    "\n",
    "@time_it\n",
    "def calc_square(numbers):\n",
    "    return [n**2 for n in numbers]\n",
    "\n",
    "@time_it\n",
    "def calc_cube(numbers):\n",
    "    return [n**3 for n in numbers]\n",
    "\n",
    "nums = range(1, 100000)\n",
    "squares = calc_square(nums)\n",
    "cube = calc_cube(nums)"
   ]
  },
  {
   "cell_type": "code",
   "execution_count": 22,
   "metadata": {},
   "outputs": [
    {
     "name": "stdout",
     "output_type": "stream",
     "text": [
      "calc_square took: 69.37 ms\n",
      "calc_cube took: 69.97 ms\n"
     ]
    }
   ],
   "source": [
    "import time\n",
    "from functools import wraps\n",
    "\n",
    "def time_it(func):\n",
    "    @wraps(func)\n",
    "    def wrapper(*args, **kwargs):\n",
    "        start = time.time()\n",
    "        result = func(*args, **kwargs)\n",
    "        end = time.time()\n",
    "        print(\"{} took: {:.2f} ms\".format(func.__name__, ((end-start)*1000)))\n",
    "        return result\n",
    "    return wrapper\n",
    "\n",
    "@time_it\n",
    "def calc_square(numbers):\n",
    "    return [n**2 for n in numbers]\n",
    "\n",
    "@time_it\n",
    "def calc_cube(numbers):\n",
    "    return [n**3 for n in numbers]\n",
    "\n",
    "nums = range(1, 100000)\n",
    "squares = calc_square(nums)\n",
    "cube = calc_cube(nums)"
   ]
  },
  {
   "cell_type": "code",
   "execution_count": null,
   "metadata": {},
   "outputs": [],
   "source": []
  }
 ],
 "metadata": {
  "kernelspec": {
   "display_name": "Python 3",
   "language": "python",
   "name": "python3"
  },
  "language_info": {
   "codemirror_mode": {
    "name": "ipython",
    "version": 3
   },
   "file_extension": ".py",
   "mimetype": "text/x-python",
   "name": "python",
   "nbconvert_exporter": "python",
   "pygments_lexer": "ipython3",
   "version": "3.6.7"
  }
 },
 "nbformat": 4,
 "nbformat_minor": 1
}
