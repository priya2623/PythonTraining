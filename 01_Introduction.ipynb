{
 "cells": [
  {
   "cell_type": "markdown",
   "metadata": {},
   "source": [
    "<img src=\"images/python-logo-master-v3-TM.png\">"
   ]
  },
  {
   "cell_type": "markdown",
   "metadata": {},
   "source": [
    "# Nitin Kumar\n",
    "\n",
    "[PythonTraining](https://github.com/vnitinv/PythonTraining)\n",
    "\n",
    "[Python for class 11](https://www.slideshare.net/nitinnitp/python-xi-copy)\n",
    "\n",
    "*nitinkr at juniper.net*"
   ]
  },
  {
   "cell_type": "markdown",
   "metadata": {},
   "source": [
    "History\n",
    "====\n",
    "\n",
    "* Development started in 1980s.\n",
    "* Developed by Guido Van Rossum (BDFL).\n",
    "* Snake logos, it’s named after Monty Python’s Flying Circus\n",
    "* Python First Release: 1991\n",
    "* In **2000**, Python 2.0 was released\n",
    "* In **2003**, Python is used in Blender 2.26 for generating and manipulating 3D graphics\n",
    "* In **2008**, Python 3.0 was released\n"
   ]
  },
  {
   "cell_type": "markdown",
   "metadata": {},
   "source": [
    "# Introduction\n",
    "\n",
    "* Python is a widely used **high-level**, **general-purpose**, **interpreted**, **dynamic programming language**.\n",
    "  * **high-level** : strong abstraction from the details of the computer.\n",
    "  * **general-purpose**: designed to be used for writing software in a wide variety of application domains\n",
    "  * **interpreted**: You do not need to compile your program before executing it. This is similar to PERL and LISP.\n",
    "  * **dynamic programming language**: Runtime instead of compile time (referred to as \"scripting languages\") \n",
    "  \n",
    "* Object Oriented Programming: \n",
    "  * Python supports Objected-Oriented style or technique of programming that encapsulates code within objects.\n",
    "\n",
    "* Interactive\n",
    "  * You can actually sit at a Python prompt and interact  with the interpreter directly to write your programs\n",
    "\n",
    "* Indented\n",
    "  * Python programs are highly readable\n",
    "\n",
    "* Strong and as well as Dynamic Typing"
   ]
  },
  {
   "cell_type": "markdown",
   "metadata": {},
   "source": [
    "## Ranking\n",
    "\n",
    "<img src=\"images/tiobe.png\">\n",
    "\n",
    "Ref: https://www.tiobe.com/tiobe-index/"
   ]
  },
  {
   "cell_type": "markdown",
   "metadata": {},
   "source": [
    "## Global Context\n",
    "\n",
    "![](https://zgab33vy595fw5zq-zippykid.netdna-ssl.com/wp-content/uploads/2017/09/growth_major_languages-1-1024x878.png)\n",
    "\n",
    "*Source : [https://stackoverflow.blog/2017/09/06/incredible-growth-python/](https://stackoverflow.blog/2017/09/06/incredible-growth-python/)*"
   ]
  },
  {
   "cell_type": "markdown",
   "metadata": {},
   "source": [
    "## Popularity\n",
    "\n",
    "![](https://spectrum.ieee.org/image/MzEwMDE1Nw.png)\n",
    "\n",
    "*Source: [https://spectrum.ieee.org/at-work/innovation/the-2018-top-programming-languages](https://spectrum.ieee.org/at-work/innovation/the-2018-top-programming-languages)*"
   ]
  },
  {
   "cell_type": "markdown",
   "metadata": {},
   "source": [
    "## Comparision\n",
    "\n",
    "<img src=\"images/compare.png\">\n"
   ]
  },
  {
   "cell_type": "markdown",
   "metadata": {},
   "source": [
    "## Why Python\n",
    "\n",
    "* excellent for beginners, yet superb for experts\n",
    "\n",
    "* highly scalable, suitable for large projects as well as small ones\n",
    "\n",
    "* rapid development\n",
    "\n",
    "* portable, cross-platform\n",
    "\n",
    "* easily extensible\n",
    "\n",
    "* object-oriented\n",
    "\n",
    "* simple yet elegant\n",
    "\n",
    "* powerful standard libs\n",
    "\n",
    "* wealth of 3rd party packages\n"
   ]
  },
  {
   "cell_type": "markdown",
   "metadata": {},
   "source": [
    "## The Python Philosophy"
   ]
  },
  {
   "cell_type": "code",
   "execution_count": 1,
   "metadata": {},
   "outputs": [
    {
     "name": "stdout",
     "output_type": "stream",
     "text": [
      "The Zen of Python, by Tim Peters\n",
      "\n",
      "Beautiful is better than ugly.\n",
      "Explicit is better than implicit.\n",
      "Simple is better than complex.\n",
      "Complex is better than complicated.\n",
      "Flat is better than nested.\n",
      "Sparse is better than dense.\n",
      "Readability counts.\n",
      "Special cases aren't special enough to break the rules.\n",
      "Although practicality beats purity.\n",
      "Errors should never pass silently.\n",
      "Unless explicitly silenced.\n",
      "In the face of ambiguity, refuse the temptation to guess.\n",
      "There should be one-- and preferably only one --obvious way to do it.\n",
      "Although that way may not be obvious at first unless you're Dutch.\n",
      "Now is better than never.\n",
      "Although never is often better than *right* now.\n",
      "If the implementation is hard to explain, it's a bad idea.\n",
      "If the implementation is easy to explain, it may be a good idea.\n",
      "Namespaces are one honking great idea -- let's do more of those!\n"
     ]
    }
   ],
   "source": [
    "import this"
   ]
  },
  {
   "cell_type": "markdown",
   "metadata": {},
   "source": [
    "## Usage of Python Programming Language\n",
    "\n",
    "- Linux Scripting/ Administration\n",
    "- Web Developement\n",
    "- Application Scripting\n",
    "- Big Data\n",
    "- Machine Learning\n",
    "- Artificial Intelligence\n",
    "- Glueing of different programming language\n",
    "- IOT\n",
    "- ....etc..... etc"
   ]
  },
  {
   "cell_type": "markdown",
   "metadata": {},
   "source": [
    "# PEP8\n",
    "\n",
    "> The Style Guide for Python Code\n",
    "\n",
    "[http://pep8.org/](http://pep8.org/)"
   ]
  },
  {
   "cell_type": "markdown",
   "metadata": {},
   "source": [
    "## Hello World"
   ]
  },
  {
   "cell_type": "code",
   "execution_count": 2,
   "metadata": {},
   "outputs": [
    {
     "name": "stdout",
     "output_type": "stream",
     "text": [
      "Hello World\n"
     ]
    }
   ],
   "source": [
    "#!/usr/bin/python3\n",
    "\n",
    "print(\"Hello World\")"
   ]
  },
  {
   "cell_type": "markdown",
   "metadata": {},
   "source": [
    "If you always run these kinds of scripts from the command line like \n",
    "```python\n",
    " >> python hello_world.py \n",
    "```\n",
    "\n",
    "If the script is made executable, the operating system will use that first line to know which interpreter to run to parse the rest of the file to perform some action.\n",
    "```python\n",
    ">> chmod +x hello_world.py\n",
    ">> ./hello_world.py\n",
    "```\n",
    "In Windows, it typically uses the .py suffix to determine how to execute the script"
   ]
  },
  {
   "cell_type": "markdown",
   "metadata": {},
   "source": [
    "# Indentation\n",
    "\n",
    "Whitespace (indentatoin) is **Very** important in Python.\n",
    "\n",
    "```python\n",
    "# Error below since there is a single space at the start of the line\n",
    " print('Hello')\n",
    "print('World')\n",
    "```\n",
    "\n",
    "\n",
    "```python\n",
    "  File \"whitespace.py\", line 3\n",
    "    print('Hello')\n",
    "    ^\n",
    "IndentationError: unexpected indent\n",
    "```"
   ]
  },
  {
   "cell_type": "markdown",
   "metadata": {},
   "source": [
    "## Python Interpreter (The Python Shell)\n",
    "\n",
    "* It is used to execute snippets of Python language\n",
    "* A means to learning Python or for debugging purposes\n",
    "* The prompt is usually `>>>`\n",
    "* A special variable _ holds the result of last printed expression\n",
    "* One can type part of command and repeatedly press Up arrow key to match commands from history\n",
    "* `exit()` to exit\n",
    "\n"
   ]
  },
  {
   "attachments": {},
   "cell_type": "markdown",
   "metadata": {},
   "source": [
    "## Python Variables\n",
    "\n",
    "The way we assign any variable in Maths or Physics (excluding unit of that data), similarly we assign any data variable in Python too.\n",
    "```\n",
    "Length = 5\n",
    "Breadth = 4\n",
    "g = 9.8\n",
    "```\n",
    "The sequence of characters used to form a variable name (and names for other Python entities later) is called an identifier or variable. It identifies a Python variable.\n",
    "\n",
    " * Variables in Python follow the standard nomenclature of an alphanumeric name beginning in a letter or underscore. \n",
    " \n",
    "\n",
    "The characters must all be letters, digits, or underscores _, and must start with a letter. In particular, punctuation and blanks are not allowed.\n",
    "\n",
    "\n",
    "The following are some examples of valid identifiers:\n",
    "```\n",
    "Area\n",
    "volumeOfCube\n",
    "third_quadrant\n",
    "AudiA4\n",
    "_surnname\n",
    "```\n",
    "\n",
    "The following are some examples of invalid identifiers:\n",
    "```\n",
    "_2 \t#Accepted but this kind of name is discouraged.\n",
    "Khert83508054rn\t\t#Accepted in Python but this kind of name is discouraged, as they don’t convey proper meaning. Also even though length of identifier is limited to our eagerness but that doesn’t mean we use very long names which might look odd.\n",
    "```\n",
    "\n",
    "* There are some restrictions on the character sequence that make up an identifier:\n",
    "\n",
    "```\n",
    "False    class      finally   is         return\n",
    "None     continue   file      for        xlambda     \n",
    "True     def        from      nonlocal   while\n",
    "and      del        global    not        with\n",
    "as       elif       if        or         yield\n",
    "assert   else       import    pass\n",
    "break    except     in        raise\n",
    "```\n",
    "\n",
    "Note: There are more than 100 names in the list, so we have omitted most of them and shown some of important keywords only.\n",
    "\n",
    "We will get error if we try to assign value to some of these reserved keywords.\n",
    "```python\n",
    ">>> for = 5\n",
    "SyntaxError: invalid syntax\n",
    ">>> \n",
    ">>> try = 2\n",
    "SyntaxError: invalid syntax\n",
    "```\n",
    "\n",
    "We won’t be getting any error if we define some other among above listed reserved keyword but the functionality of the keyword will get changed and it will be difficult to figure out in our code downward why the key is not behaving as expected.\n",
    "\n",
    "```python\n",
    ">>> file=3\n",
    ">>> file('log.txt')\n",
    "\n",
    "Traceback (most recent call last):\n",
    "  File \"<pyshell#10>\", line 1, in <module>\n",
    "    file('log.txt')\n",
    "TypeError: 'int' object is not callable\n",
    "```\n",
    "\n",
    "See file which is supposed to open a file is behaving like integer as we assigned file to 3 which is an integer.\n",
    "So you could redefine some reserved keywords, but you probably should not unless you really know what you are doing! When you start the editor, we will see how IDLE uses colour to help you know what identifies are predefined.\n",
    "\n",
    "* Variable names are case sensitive. \n",
    "\n",
    "```python\n",
    ">>> LENGTH = 4\n",
    ">>> length = 3\n",
    ">>> Length = 5\n",
    ">>> print LENGTH\n",
    "4\n",
    ">>> print length\n",
    "3\n",
    ">>> print Length\n",
    "5\n",
    "```\n",
    "\n",
    "As you can notice same variable name with different case behaves differently.\n",
    "\n",
    "\n",
    "* Variables do not need to be declared and their datatypes are inferred from the assignment statement.\n",
    "\n",
    "The way we define any simple variables like int, float in Maths or Physics it’s the same way in Python also. We need not to give the data type as a prefix or suffix in Python variables.\n",
    "\n",
    "```python\n",
    "x = 5\n",
    "y = 10\n",
    "z= 3+4j\n",
    "pie= 3.14\n",
    "```\n",
    "\n",
    "* assigning same variable to different data type\n",
    "\n",
    "```python\n",
    ">>> x = 5\n",
    ">>> type(x)\n",
    ">>> x = 2.3\n",
    ">>> type(x)\n",
    ">>> x = 'Hello World\"\n",
    ">>> type(x)\n",
    "```\n",
    "\n",
    "Variable Scope: Most variables in Python are local in scope to their own function or class. For instance if you define a = 1 within a function, then a will be available within that entire function but will be undefined in the main program that calls the function. (we will explain this in function topic)\n",
    "\n",
    "```python\n",
    ">>> x = 5\n",
    ">>> id(x)\n",
    "19560976\n",
    "```\n",
    "\n",
    "When we assign x to 5, 5 get saved to some memory location (19561000 in our case). So x reference to this memory location (19561000) of int data 5\n"
   ]
  },
  {
   "cell_type": "markdown",
   "metadata": {},
   "source": [
    "## Numbers in Python\n",
    "\n",
    "- Integers (example: 2, 5, 10 which are whole numbers)\n",
    "- Floating point numbers ***floats*** (example: 2.25, 3.24E-4) \n",
    "\n",
    "```python\n",
    ">>> num1 = 7\n",
    ">>> num2 = 42\n",
    ">>> total = num1 + num2\n",
    ">>> print(total)\n",
    "49\n",
    ">>> total\n",
    "49\n",
    "\n",
    "# no limit to integer precision, only limited by available memory\n",
    ">>> 34 ** 32\n",
    "10170102859315411774579628461341138023025901305856\n",
    "\n",
    "# using single / gives floating point output\n",
    ">>> 9 / 5\n",
    "1.8\n",
    "\n",
    "# using double / gives only the integer portion, no rounding\n",
    ">>> 9 // 5\n",
    "1\n",
    "\n",
    ">>> 9 % 5\n",
    "4\n",
    "```"
   ]
  },
  {
   "cell_type": "markdown",
   "metadata": {},
   "source": [
    "## Floating Points \n",
    "```python\n",
    ">>> appx_pi = 22 / 7\n",
    ">>> appx_pi\n",
    "3.142857142857143\n",
    "\n",
    ">>> area = 42.16\n",
    ">>> appx_pi + area\n",
    "45.30285714285714\n",
    "\n",
    ">>> num1\n",
    "7\n",
    ">>> num1 + area\n",
    "49.16\n",
    "```"
   ]
  },
  {
   "attachments": {},
   "cell_type": "markdown",
   "metadata": {},
   "source": [
    "## Booleans\n",
    "\n",
    "there is a bool type which is a part (subclass) of int, the standard integer type. It has two possible values: True and False (Do take care of capital T and F, we most often do mistake here), which are \"special versions\" of 1 and 0 respectively and behave as such in arithmetic contexts.\n",
    "\n",
    "```python\n",
    ">>> False==0\n",
    "True \n",
    ">>> True==1\n",
    "True \n",
    ">>> 2*2==4\n",
    "True \n",
    "```"
   ]
  },
  {
   "cell_type": "markdown",
   "metadata": {},
   "source": [
    "## Special functions: dir, help"
   ]
  },
  {
   "cell_type": "code",
   "execution_count": 13,
   "metadata": {},
   "outputs": [],
   "source": [
    "x = 5"
   ]
  },
  {
   "cell_type": "code",
   "execution_count": 14,
   "metadata": {},
   "outputs": [
    {
     "data": {
      "text/plain": [
       "5"
      ]
     },
     "execution_count": 14,
     "metadata": {},
     "output_type": "execute_result"
    }
   ],
   "source": [
    "x"
   ]
  },
  {
   "cell_type": "code",
   "execution_count": 15,
   "metadata": {},
   "outputs": [
    {
     "data": {
      "text/plain": [
       "['__abs__',\n",
       " '__add__',\n",
       " '__and__',\n",
       " '__bool__',\n",
       " '__ceil__',\n",
       " '__class__',\n",
       " '__delattr__',\n",
       " '__dir__',\n",
       " '__divmod__',\n",
       " '__doc__',\n",
       " '__eq__',\n",
       " '__float__',\n",
       " '__floor__',\n",
       " '__floordiv__',\n",
       " '__format__',\n",
       " '__ge__',\n",
       " '__getattribute__',\n",
       " '__getnewargs__',\n",
       " '__gt__',\n",
       " '__hash__',\n",
       " '__index__',\n",
       " '__init__',\n",
       " '__init_subclass__',\n",
       " '__int__',\n",
       " '__invert__',\n",
       " '__le__',\n",
       " '__lshift__',\n",
       " '__lt__',\n",
       " '__mod__',\n",
       " '__mul__',\n",
       " '__ne__',\n",
       " '__neg__',\n",
       " '__new__',\n",
       " '__or__',\n",
       " '__pos__',\n",
       " '__pow__',\n",
       " '__radd__',\n",
       " '__rand__',\n",
       " '__rdivmod__',\n",
       " '__reduce__',\n",
       " '__reduce_ex__',\n",
       " '__repr__',\n",
       " '__rfloordiv__',\n",
       " '__rlshift__',\n",
       " '__rmod__',\n",
       " '__rmul__',\n",
       " '__ror__',\n",
       " '__round__',\n",
       " '__rpow__',\n",
       " '__rrshift__',\n",
       " '__rshift__',\n",
       " '__rsub__',\n",
       " '__rtruediv__',\n",
       " '__rxor__',\n",
       " '__setattr__',\n",
       " '__sizeof__',\n",
       " '__str__',\n",
       " '__sub__',\n",
       " '__subclasshook__',\n",
       " '__truediv__',\n",
       " '__trunc__',\n",
       " '__xor__',\n",
       " 'bit_length',\n",
       " 'conjugate',\n",
       " 'denominator',\n",
       " 'from_bytes',\n",
       " 'imag',\n",
       " 'numerator',\n",
       " 'real',\n",
       " 'to_bytes']"
      ]
     },
     "execution_count": 15,
     "metadata": {},
     "output_type": "execute_result"
    }
   ],
   "source": [
    "dir(x)"
   ]
  },
  {
   "cell_type": "code",
   "execution_count": 16,
   "metadata": {},
   "outputs": [
    {
     "name": "stdout",
     "output_type": "stream",
     "text": [
      "Help on int object:\n",
      "\n",
      "class int(object)\n",
      " |  int(x=0) -> integer\n",
      " |  int(x, base=10) -> integer\n",
      " |  \n",
      " |  Convert a number or string to an integer, or return 0 if no arguments\n",
      " |  are given.  If x is a number, return x.__int__().  For floating point\n",
      " |  numbers, this truncates towards zero.\n",
      " |  \n",
      " |  If x is not a number or if base is given, then x must be a string,\n",
      " |  bytes, or bytearray instance representing an integer literal in the\n",
      " |  given base.  The literal can be preceded by '+' or '-' and be surrounded\n",
      " |  by whitespace.  The base defaults to 10.  Valid bases are 0 and 2-36.\n",
      " |  Base 0 means to interpret the base from the string as an integer literal.\n",
      " |  >>> int('0b100', base=0)\n",
      " |  4\n",
      " |  \n",
      " |  Methods defined here:\n",
      " |  \n",
      " |  __abs__(self, /)\n",
      " |      abs(self)\n",
      " |  \n",
      " |  __add__(self, value, /)\n",
      " |      Return self+value.\n",
      " |  \n",
      " |  __and__(self, value, /)\n",
      " |      Return self&value.\n",
      " |  \n",
      " |  __bool__(self, /)\n",
      " |      self != 0\n",
      " |  \n",
      " |  __ceil__(...)\n",
      " |      Ceiling of an Integral returns itself.\n",
      " |  \n",
      " |  __divmod__(self, value, /)\n",
      " |      Return divmod(self, value).\n",
      " |  \n",
      " |  __eq__(self, value, /)\n",
      " |      Return self==value.\n",
      " |  \n",
      " |  __float__(self, /)\n",
      " |      float(self)\n",
      " |  \n",
      " |  __floor__(...)\n",
      " |      Flooring an Integral returns itself.\n",
      " |  \n",
      " |  __floordiv__(self, value, /)\n",
      " |      Return self//value.\n",
      " |  \n",
      " |  __format__(...)\n",
      " |      default object formatter\n",
      " |  \n",
      " |  __ge__(self, value, /)\n",
      " |      Return self>=value.\n",
      " |  \n",
      " |  __getattribute__(self, name, /)\n",
      " |      Return getattr(self, name).\n",
      " |  \n",
      " |  __getnewargs__(...)\n",
      " |  \n",
      " |  __gt__(self, value, /)\n",
      " |      Return self>value.\n",
      " |  \n",
      " |  __hash__(self, /)\n",
      " |      Return hash(self).\n",
      " |  \n",
      " |  __index__(self, /)\n",
      " |      Return self converted to an integer, if self is suitable for use as an index into a list.\n",
      " |  \n",
      " |  __int__(self, /)\n",
      " |      int(self)\n",
      " |  \n",
      " |  __invert__(self, /)\n",
      " |      ~self\n",
      " |  \n",
      " |  __le__(self, value, /)\n",
      " |      Return self<=value.\n",
      " |  \n",
      " |  __lshift__(self, value, /)\n",
      " |      Return self<<value.\n",
      " |  \n",
      " |  __lt__(self, value, /)\n",
      " |      Return self<value.\n",
      " |  \n",
      " |  __mod__(self, value, /)\n",
      " |      Return self%value.\n",
      " |  \n",
      " |  __mul__(self, value, /)\n",
      " |      Return self*value.\n",
      " |  \n",
      " |  __ne__(self, value, /)\n",
      " |      Return self!=value.\n",
      " |  \n",
      " |  __neg__(self, /)\n",
      " |      -self\n",
      " |  \n",
      " |  __new__(*args, **kwargs) from builtins.type\n",
      " |      Create and return a new object.  See help(type) for accurate signature.\n",
      " |  \n",
      " |  __or__(self, value, /)\n",
      " |      Return self|value.\n",
      " |  \n",
      " |  __pos__(self, /)\n",
      " |      +self\n",
      " |  \n",
      " |  __pow__(self, value, mod=None, /)\n",
      " |      Return pow(self, value, mod).\n",
      " |  \n",
      " |  __radd__(self, value, /)\n",
      " |      Return value+self.\n",
      " |  \n",
      " |  __rand__(self, value, /)\n",
      " |      Return value&self.\n",
      " |  \n",
      " |  __rdivmod__(self, value, /)\n",
      " |      Return divmod(value, self).\n",
      " |  \n",
      " |  __repr__(self, /)\n",
      " |      Return repr(self).\n",
      " |  \n",
      " |  __rfloordiv__(self, value, /)\n",
      " |      Return value//self.\n",
      " |  \n",
      " |  __rlshift__(self, value, /)\n",
      " |      Return value<<self.\n",
      " |  \n",
      " |  __rmod__(self, value, /)\n",
      " |      Return value%self.\n",
      " |  \n",
      " |  __rmul__(self, value, /)\n",
      " |      Return value*self.\n",
      " |  \n",
      " |  __ror__(self, value, /)\n",
      " |      Return value|self.\n",
      " |  \n",
      " |  __round__(...)\n",
      " |      Rounding an Integral returns itself.\n",
      " |      Rounding with an ndigits argument also returns an integer.\n",
      " |  \n",
      " |  __rpow__(self, value, mod=None, /)\n",
      " |      Return pow(value, self, mod).\n",
      " |  \n",
      " |  __rrshift__(self, value, /)\n",
      " |      Return value>>self.\n",
      " |  \n",
      " |  __rshift__(self, value, /)\n",
      " |      Return self>>value.\n",
      " |  \n",
      " |  __rsub__(self, value, /)\n",
      " |      Return value-self.\n",
      " |  \n",
      " |  __rtruediv__(self, value, /)\n",
      " |      Return value/self.\n",
      " |  \n",
      " |  __rxor__(self, value, /)\n",
      " |      Return value^self.\n",
      " |  \n",
      " |  __sizeof__(...)\n",
      " |      Returns size in memory, in bytes\n",
      " |  \n",
      " |  __str__(self, /)\n",
      " |      Return str(self).\n",
      " |  \n",
      " |  __sub__(self, value, /)\n",
      " |      Return self-value.\n",
      " |  \n",
      " |  __truediv__(self, value, /)\n",
      " |      Return self/value.\n",
      " |  \n",
      " |  __trunc__(...)\n",
      " |      Truncating an Integral returns itself.\n",
      " |  \n",
      " |  __xor__(self, value, /)\n",
      " |      Return self^value.\n",
      " |  \n",
      " |  bit_length(...)\n",
      " |      int.bit_length() -> int\n",
      " |      \n",
      " |      Number of bits necessary to represent self in binary.\n",
      " |      >>> bin(37)\n",
      " |      '0b100101'\n",
      " |      >>> (37).bit_length()\n",
      " |      6\n",
      " |  \n",
      " |  conjugate(...)\n",
      " |      Returns self, the complex conjugate of any int.\n",
      " |  \n",
      " |  from_bytes(...) from builtins.type\n",
      " |      int.from_bytes(bytes, byteorder, *, signed=False) -> int\n",
      " |      \n",
      " |      Return the integer represented by the given array of bytes.\n",
      " |      \n",
      " |      The bytes argument must be a bytes-like object (e.g. bytes or bytearray).\n",
      " |      \n",
      " |      The byteorder argument determines the byte order used to represent the\n",
      " |      integer.  If byteorder is 'big', the most significant byte is at the\n",
      " |      beginning of the byte array.  If byteorder is 'little', the most\n",
      " |      significant byte is at the end of the byte array.  To request the native\n",
      " |      byte order of the host system, use `sys.byteorder' as the byte order value.\n",
      " |      \n",
      " |      The signed keyword-only argument indicates whether two's complement is\n",
      " |      used to represent the integer.\n",
      " |  \n",
      " |  to_bytes(...)\n",
      " |      int.to_bytes(length, byteorder, *, signed=False) -> bytes\n",
      " |      \n",
      " |      Return an array of bytes representing an integer.\n",
      " |      \n",
      " |      The integer is represented using length bytes.  An OverflowError is\n",
      " |      raised if the integer is not representable with the given number of\n",
      " |      bytes.\n",
      " |      \n",
      " |      The byteorder argument determines the byte order used to represent the\n",
      " |      integer.  If byteorder is 'big', the most significant byte is at the\n",
      " |      beginning of the byte array.  If byteorder is 'little', the most\n",
      " |      significant byte is at the end of the byte array.  To request the native\n",
      " |      byte order of the host system, use `sys.byteorder' as the byte order value.\n",
      " |      \n",
      " |      The signed keyword-only argument determines whether two's complement is\n",
      " |      used to represent the integer.  If signed is False and a negative integer\n",
      " |      is given, an OverflowError is raised.\n",
      " |  \n",
      " |  ----------------------------------------------------------------------\n",
      " |  Data descriptors defined here:\n",
      " |  \n",
      " |  denominator\n",
      " |      the denominator of a rational number in lowest terms\n",
      " |  \n",
      " |  imag\n",
      " |      the imaginary part of a complex number\n",
      " |  \n",
      " |  numerator\n",
      " |      the numerator of a rational number in lowest terms\n",
      " |  \n",
      " |  real\n",
      " |      the real part of a complex number\n",
      "\n"
     ]
    }
   ],
   "source": [
    "help(x)"
   ]
  },
  {
   "cell_type": "markdown",
   "metadata": {},
   "source": [
    "# String\n",
    "\n",
    "* strings can be declared using single, double quotes or triple quotes\n",
    "* Use `\\` to escape quotes which are part of string itself if the string contains both single and double quotes\n",
    "\n",
    "```python\n",
    ">>> str1 = 'This is a string'\n",
    ">>> str1\n",
    "'This is a string'\n",
    ">>> greeting = \"Hello World!\"\n",
    ">>> greeting\n",
    "'Hello World!'\n",
    "\n",
    ">>> weather = \"It's a nice and warm day\"\n",
    ">>> weather\n",
    "\"It's a nice and warm day\"\n",
    ">>> print(weather)\n",
    "It's a nice and warm day\n",
    "\n",
    ">>> weather = 'It\\'s a nice and warm day'\n",
    ">>> print(weather)\n",
    "It's a nice and warm day\n",
    "```"
   ]
  },
  {
   "cell_type": "markdown",
   "metadata": {},
   "source": [
    "\n",
    "* Use `r` prefix (stands for raw) if you do not want escape sequences to be interpreted\n",
    "* It is commonly used with regular expressions\n",
    "\n",
    "```python\n",
    ">>> raw_str = r'Blue\\nRed\\nGreen'\n",
    ">>> print(raw_str)\n",
    "Blue\\nRed\\nGreen\n",
    "\n",
    "# to see how the string is stored internally\n",
    ">>> raw_str\n",
    "'Blue\\\\nRed\\\\nGreen'\n",
    "```"
   ]
  },
  {
   "cell_type": "markdown",
   "metadata": {},
   "source": [
    "* String concatenation and repetition\n",
    "\n",
    "```python\n",
    ">>> str1 = 'Hello'\n",
    ">>> str2 = ' World'\n",
    ">>> print(str1 + str2)\n",
    "Hello World\n",
    "\n",
    ">>> style_char = '-'\n",
    ">>> style_char * 10\n",
    "'----------'\n",
    "\n",
    ">>> word = 'dwit '\n",
    ">>> print(word * 5)\n",
    "dwit dwit dwit dwit dwit \n",
    "```"
   ]
  },
  {
   "cell_type": "markdown",
   "metadata": {},
   "source": [
    "\n",
    "* Triple quoted strings `\"\"\"` or `'''` can be used as required as well as escape characters using \\\n",
    "\n",
    "```python\n",
    "#!/usr/bin/python3\n",
    "\n",
    "\"\"\"\n",
    "This line is part of multiline comment\n",
    "\n",
    "This program shows examples of triple quoted strings\n",
    "\"\"\"\n",
    "```\n",
    "* This is single line comment\n",
    "\n",
    "```python\n",
    "# This method does this\n",
    "```"
   ]
  },
  {
   "cell_type": "markdown",
   "metadata": {},
   "source": [
    "# Accessing Values in Strings\n",
    "\n",
    "* Python does not support a character type; these are treated as strings of length one.\n",
    "\n",
    "* Subsets of strings can be taken using the slice operator ([ ] and [:] ) with indexes starting at 0 in the beginning of the string and working their way from -1 at the end.\n",
    "\n",
    "* The plus (+) sign is the string concatenation operator and the asterisk (*) is the repetition operator. "
   ]
  },
  {
   "cell_type": "code",
   "execution_count": 3,
   "metadata": {},
   "outputs": [
    {
     "name": "stdout",
     "output_type": "stream",
     "text": [
      "H\n",
      "Hello\n",
      "Hello\n",
      "World\n",
      "Worl\n",
      "Hello WorldHello World\n",
      "Hello World!!\n"
     ]
    }
   ],
   "source": [
    "_name = 'Hello World'\n",
    "\n",
    "\"Any string that is not assigned to a variable is considered as comment\"\n",
    "\n",
    "print(_name[0])       # This prints H\n",
    "print(_name[0:5])     # This prints Hello\n",
    "print(_name[:5])      # This prints Hello\n",
    "print(_name[6:])      # This prints World\n",
    "print(_name[-5:-1])   # This prints Worl\n",
    "print(_name * 2)      # This prints Hello WorldHello World\n",
    "print(_name + '!!')   # This prints Hello World!!"
   ]
  },
  {
   "cell_type": "markdown",
   "metadata": {},
   "source": [
    "***NOTE: If an string is not assigned to a variable, it is regarded as a comments***"
   ]
  },
  {
   "cell_type": "markdown",
   "metadata": {},
   "source": [
    "## Strings Are Immutable\n",
    "\n",
    "Once you create a string, you cannot change it.\n",
    "\n",
    "For example:\n",
    "```python\n",
    ">>> my_string = \"Hello World!\"\n",
    "\n",
    ">>> my_string[0] = \"X\"  # You can not do this\n",
    "\n",
    "----------------------------------------------------------------\n",
    "TypeError                                 Traceback (most recent call last)\n",
    "<ipython-input-1-5dc639bead5d> in <module>()\n",
    "      1 my_string = \"Hello World!\"\n",
    "      2 \n",
    "----> 3 my_string[0] = \"X\"\n",
    "\n",
    "TypeError: 'str' object does not support item assignment\n",
    "\n",
    "\n",
    "    ```"
   ]
  },
  {
   "cell_type": "markdown",
   "metadata": {},
   "source": [
    "# Formatting Strings\n",
    "\n",
    "There are many ways we can format strings."
   ]
  },
  {
   "cell_type": "code",
   "execution_count": 4,
   "metadata": {},
   "outputs": [
    {
     "name": "stdout",
     "output_type": "stream",
     "text": [
      "This is the Python Programming class with 8 students\n"
     ]
    }
   ],
   "source": [
    "# Example 1\n",
    "\n",
    "class_name = \"Python Programming\"\n",
    "\n",
    "no_of_students = 8\n",
    "\n",
    "sentence = \"This is the {} class with {} students\".format(class_name, no_of_students)\n",
    "\n",
    "print(sentence)"
   ]
  },
  {
   "cell_type": "code",
   "execution_count": 5,
   "metadata": {},
   "outputs": [
    {
     "name": "stdout",
     "output_type": "stream",
     "text": [
      "My name is Sagar Giri and email is girisagar4@gmail.com\n",
      "My email is girisagar4@gmail.com and name is Sagar Giri\n"
     ]
    }
   ],
   "source": [
    "# Example 2\n",
    "\n",
    "name = 'Sagar Giri'\n",
    "email = \"girisagar4@gmail.com\"\n",
    "\n",
    "print(\"My name is {0} and email is {1}\".format(name, email))\n",
    "\n",
    "print(\"My email is {1} and name is {0}\".format(name, email))"
   ]
  },
  {
   "cell_type": "code",
   "execution_count": 6,
   "metadata": {},
   "outputs": [
    {
     "name": "stdout",
     "output_type": "stream",
     "text": [
      "I am studying Python in Deerwalk Learning center\n"
     ]
    }
   ],
   "source": [
    "# Example 3\n",
    "\n",
    "institute = \"Deerwalk Learning center\"\n",
    "course = \"Python\"\n",
    "\n",
    "sentence = \"I am studying {course} in {institute}\".format(course = \"Python\", institute = \"Deerwalk Learning center\")\n",
    "\n",
    "print(sentence)"
   ]
  },
  {
   "cell_type": "code",
   "execution_count": 7,
   "metadata": {},
   "outputs": [
    {
     "name": "stdout",
     "output_type": "stream",
     "text": [
      "0.333\n",
      "__Python__\n"
     ]
    }
   ],
   "source": [
    "# decimal (.) precision\n",
    "print('{0:.3f}'.format(1.0/3))\n",
    "\n",
    "\n",
    "# fill with underscores (_) with the text centered\n",
    "# (^) to 10 width '__Python__'\n",
    "print('{0:_^10}'.format('Python'))"
   ]
  },
  {
   "cell_type": "code",
   "execution_count": 8,
   "metadata": {},
   "outputs": [
    {
     "name": "stdout",
     "output_type": "stream",
     "text": [
      "Python is awesome.\n",
      "3.1429\n",
      "June 23, 2019\n"
     ]
    }
   ],
   "source": [
    "# Example 4\n",
    "\n",
    "# f-strings which are available on Python3.6\n",
    "\n",
    "programming_language = \"Python\"\n",
    "\n",
    "# can use variable directly inside the placeholder. This makes code length shorter.\n",
    "statement = f\"{programming_language} is awesome.\" \n",
    "print(statement)\n",
    "\n",
    "# Number formatting\n",
    "pi = 22/7\n",
    "print(f\"{pi:.5}\")\n",
    "\n",
    "\n",
    "# Prints today's date with help \n",
    "# of datetime library \n",
    "import datetime \n",
    "  \n",
    "today = datetime.datetime.today() \n",
    "print(f\"{today:%B %d, %Y}\") "
   ]
  },
  {
   "cell_type": "markdown",
   "metadata": {},
   "source": [
    "f-strings literal are widley being adopted."
   ]
  },
  {
   "cell_type": "code",
   "execution_count": 9,
   "metadata": {
    "scrolled": true
   },
   "outputs": [
    {
     "name": "stdout",
     "output_type": "stream",
     "text": [
      "\n",
      "<html>\n",
      "    <head>\n",
      "         <title>Python is Awesome</title>\n",
      "    </head>\n",
      "    <body>\n",
      "       Hi\n",
      "    </body>\n",
      "</html>\n",
      "\n"
     ]
    }
   ],
   "source": [
    "# Example 5\n",
    "\n",
    "# This is by using the builtin library. It's cool.\n",
    "\n",
    "from string import Template\n",
    "\n",
    "dynamic_title = \"Python is Awesome\"\n",
    "\n",
    "html_template_str = \"\"\"\n",
    "<html>\n",
    "    <head>\n",
    "         <title>$title</title>\n",
    "    </head>\n",
    "    <body>\n",
    "       Hi\n",
    "    </body>\n",
    "</html>\n",
    "\"\"\"\n",
    "html_template = Template(html_template_str)\n",
    "\n",
    "# substitute(title=dynamic_title)\n",
    "generated_html = html_template.substitute(title=dynamic_title)\n",
    "\n",
    "print(generated_html)"
   ]
  },
  {
   "cell_type": "markdown",
   "metadata": {},
   "source": [
    "# Constants in Python\n",
    "\n",
    "\n",
    "* `None` The sole value of the type `NoneType`\n",
    "* `None` is frequently used to represent the absence of a value\n",
    "* `False` The false value of the bool type\n",
    "* `True` The true value of the bool type\n",
    "\n",
    "```python\n",
    ">>> bool(2)\n",
    "True\n",
    ">>> bool(0)\n",
    "False\n",
    ">>> bool('')\n",
    "False\n",
    ">>> bool('a')\n",
    "True\n",
    "```"
   ]
  },
  {
   "cell_type": "code",
   "execution_count": 10,
   "metadata": {},
   "outputs": [
    {
     "name": "stdout",
     "output_type": "stream",
     "text": [
      "['False', 'None', 'True', 'and', 'as', 'assert', 'break', 'class', 'continue', 'def', 'del', 'elif', 'else', 'except', 'finally', 'for', 'from', 'global', 'if', 'import', 'in', 'is', 'lambda', 'nonlocal', 'not', 'or', 'pass', 'raise', 'return', 'try', 'while', 'with', 'yield']\n"
     ]
    }
   ],
   "source": [
    "import keyword\n",
    "\n",
    "print(keyword.kwlist)"
   ]
  },
  {
   "cell_type": "markdown",
   "metadata": {},
   "source": [
    "# Operators\n",
    "* arithmetic operators\n",
    "    * `+` addition\n",
    "    * `-` subtraction\n",
    "    * `*` multiplication\n",
    "    * `/` division (float output)\n",
    "    * `//` division (integer output, result is not rounded)\n",
    "    * `**` exponentiation\n",
    "    * `%` modulo\n",
    "* string operators\n",
    "    * `+` string concatenation\n",
    "    * `*` string repetition"
   ]
  },
  {
   "cell_type": "markdown",
   "metadata": {},
   "source": [
    "* comparison operators\n",
    "    * `==` equal to\n",
    "    * `>` greater than\n",
    "    * `<` less than\n",
    "    * `!=` not equal to\n",
    "    * `>=` greater than or equal to\n",
    "    * `<=` less than or equal to\n",
    "* boolean logic\n",
    "    * `and` logical and\n",
    "    * `or` logical or\n",
    "    * `not` logical not\n",
    "* bitwise operators\n",
    "    * `&` and\n",
    "    * `|` or\n",
    "    * `^` exclusive or\n",
    "    * `~` invert bits\n",
    "    * `>>` right shift\n",
    "    * `<<` left shift\n",
    "* and many more..."
   ]
  },
  {
   "cell_type": "markdown",
   "metadata": {},
   "source": [
    "| `x ^ y` |\t bitwise exclusive or of `x` and `y `\t| \n",
    "|---------|----------------------------|\n",
    "| `x & y` |\t bitwise and of `x` and `y` \t |\n",
    "| `x << n` |\t `x` shifted left by n bits|\n",
    "| `x >> n` \t| `x` shifted right by n bits|\n",
    "| `~x` \t    | the bits of `x` inverted|"
   ]
  },
  {
   "cell_type": "markdown",
   "metadata": {},
   "source": [
    "|operation| ? |\n",
    "|-----------|----------|\n",
    "| `-x` \t| `x` negated | \n",
    "| `+x` \t |`x` unchanged | \t  \t \n",
    "| `abs(x)` \t| absolute value or magnitude of `x`| \n",
    "| `int(x)` \t| `x` converted to integer|\n",
    "| `float(x)` | \t`x` converted to floating point|\n",
    "| `complex(re, im)` \t| `a` complex number with real part re, imaginary part im.\t|\n",
    "| `divmod(x, y)` \t| the pair `(x // y, x % y)`|\n",
    "| `pow(x, y)` \t| `x` to the power `y`|\n",
    "| `x ** y` \t| `x` to the power `y`|"
   ]
  },
  {
   "cell_type": "code",
   "execution_count": null,
   "metadata": {},
   "outputs": [],
   "source": []
  }
 ],
 "metadata": {
  "kernelspec": {
   "display_name": "Python 3",
   "language": "python",
   "name": "python3"
  },
  "language_info": {
   "codemirror_mode": {
    "name": "ipython",
    "version": 3
   },
   "file_extension": ".py",
   "mimetype": "text/x-python",
   "name": "python",
   "nbconvert_exporter": "python",
   "pygments_lexer": "ipython3",
   "version": "3.6.7"
  }
 },
 "nbformat": 4,
 "nbformat_minor": 2
}
