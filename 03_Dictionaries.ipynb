{
 "cells": [
  {
   "cell_type": "markdown",
   "metadata": {},
   "source": [
    "# Dictionary"
   ]
  },
  {
   "cell_type": "markdown",
   "metadata": {},
   "source": [
    "* Dictionary is another useful data type built into Python.\n",
    "* Dictionaries are sometimes found in other languages as \"associative memories\" or \"associative arrays\" or \"Hash Maps\".\n",
    "* Unlike sequences like lists, tuples, sets, which are indexed by a range of numbers, dictionaries are indexed by keys.\n",
    "* Keys in dictionary can be any immutable type (strings, numbers). \n",
    "* Tuples can be used as keys if they contain only strings, numbers, or tuples\n",
    "* But, if a tuple contains any mutable object (list, set) either directly or indirectly, it cannot be used as a key. \n",
    "* Can't use lists as keys, since lists can be modified in place using index assignments, slice assignments, or methods like `append()` and `extend()`."
   ]
  },
  {
   "cell_type": "markdown",
   "metadata": {},
   "source": [
    "* It is best to think of a dictionary as an unordered set of **`key: value`** pairs\n",
    "* The requirement is that the keys are unique (within one dictionary). \n",
    "* A pair of braces creates an empty dictionary: `{}`. \n",
    "* The main operations on a dictionary are storing a value with some key and extracting the value given the key. "
   ]
  },
  {
   "cell_type": "code",
   "execution_count": 1,
   "metadata": {
    "scrolled": true
   },
   "outputs": [
    {
     "name": "stdout",
     "output_type": "stream",
     "text": [
      "<class 'dict'>\n",
      "<class 'dict'>\n"
     ]
    }
   ],
   "source": [
    "empty_dict = {}\n",
    "object_dict = dict()\n",
    "print(type(empty_dict))\n",
    "print(type(object_dict))"
   ]
  },
  {
   "cell_type": "code",
   "execution_count": 2,
   "metadata": {},
   "outputs": [],
   "source": [
    "language = {\n",
    "        \"name\": \"Python\",\n",
    "        \"foundend\": 1980,\n",
    "        \"opensource\": True,\n",
    "        \"version\": 3.6,\n",
    "        \"properties\": [\"high-level\", \"general-purpose\", \"interpreted\", \"dynamic\"],\n",
    "        (\"Frameworks\", ): {\n",
    "            \"web\": [\"Django\", \"Flask\", \"Pyramid\"],\n",
    "            \"machine_learning\": {\"Scikit-Learn\", \"PyTorch\", \"Tensorflow\"}\n",
    "        }    \n",
    "    }"
   ]
  },
  {
   "cell_type": "code",
   "execution_count": 3,
   "metadata": {},
   "outputs": [
    {
     "name": "stdout",
     "output_type": "stream",
     "text": [
      "Dictionary items =  {'name': 'Python', 'foundend': 1980, 'opensource': True, 'version': 3.6, 'properties': ['high-level', 'general-purpose', 'interpreted', 'dynamic'], ('Frameworks',): {'web': ['Django', 'Flask', 'Pyramid'], 'machine_learning': {'PyTorch', 'Tensorflow', 'Scikit-Learn'}}}\n",
      "Length =  6\n"
     ]
    }
   ],
   "source": [
    "print(\"Dictionary items = \",language)\n",
    "print(\"Length = \", len(language))"
   ]
  },
  {
   "cell_type": "code",
   "execution_count": 4,
   "metadata": {},
   "outputs": [
    {
     "name": "stdout",
     "output_type": "stream",
     "text": [
      "{'Game of Thrones': 9.5, 'Band of Brothers': 9.5, 'The Wire': 9.3, 'The Sopranos': 9.2}\n"
     ]
    }
   ],
   "source": [
    "hbo_hits = [\n",
    "        ('Game of Thrones', 9.5), \n",
    "        ('Band of Brothers', 9.5), \n",
    "        ('The Wire', 9.3), \n",
    "        ('The Sopranos', 9.2)\n",
    "]\n",
    "\n",
    "hbo = dict(hbo_hits)\n",
    "print(hbo)"
   ]
  },
  {
   "cell_type": "markdown",
   "metadata": {},
   "source": [
    "## Pretty printing"
   ]
  },
  {
   "cell_type": "code",
   "execution_count": 5,
   "metadata": {
    "scrolled": true
   },
   "outputs": [
    {
     "name": "stdout",
     "output_type": "stream",
     "text": [
      "{   'Band of Brothers': 9.5,\n",
      "    'Game of Thrones': 9.5,\n",
      "    'The Sopranos': 9.2,\n",
      "    'The Wire': 9.3}\n"
     ]
    }
   ],
   "source": [
    "import pprint\n",
    "pp = pprint.PrettyPrinter(indent=4)\n",
    "pp.pprint(hbo)"
   ]
  },
  {
   "cell_type": "markdown",
   "metadata": {},
   "source": [
    "### Accessing"
   ]
  },
  {
   "cell_type": "code",
   "execution_count": 6,
   "metadata": {},
   "outputs": [
    {
     "name": "stdout",
     "output_type": "stream",
     "text": [
      "Python\n",
      "3.6\n"
     ]
    }
   ],
   "source": [
    "language = {\n",
    "        \"name\": \"Python\",\n",
    "        \"foundend\": 1980,\n",
    "        \"opensource\": True,\n",
    "        \"version\": 3.6,\n",
    "        \"properties\": [\"high-level\", \"general-purpose\", \"interpreted\", \"dynamic\"],\n",
    "        (\"Frameworks\", ): {\n",
    "            \"web\": [\"Django\", \"Flask\", \"Pyramid\"],\n",
    "            \"machine_learning\": {\"Scikit-Learn\", \"PyTorch\", \"Tensorflow\"}\n",
    "        }    \n",
    "    }\n",
    "print(language[\"name\"])\n",
    "print(language[\"version\"])"
   ]
  },
  {
   "cell_type": "code",
   "execution_count": 7,
   "metadata": {},
   "outputs": [
    {
     "data": {
      "text/plain": [
       "['98073XXXXX', '98402XXXXX']"
      ]
     },
     "execution_count": 7,
     "metadata": {},
     "output_type": "execute_result"
    }
   ],
   "source": [
    "phone_book = {\n",
    "    \"sagar\": [\"98073XXXXX\", \"98402XXXXX\"],\n",
    "    \"hari\": [\"9800000000\"]\n",
    "}\n",
    "\n",
    "phone_book[\"sagar\"]"
   ]
  },
  {
   "cell_type": "code",
   "execution_count": 8,
   "metadata": {
    "scrolled": true
   },
   "outputs": [
    {
     "name": "stdout",
     "output_type": "stream",
     "text": [
      "{'ncell': '98073XXXXX', 'ntc': '98402XXXXX'}\n",
      "98073XXXXX\n"
     ]
    }
   ],
   "source": [
    "phone_book = {\n",
    "    \"sagar\": {\"ncell\": \"98073XXXXX\", \n",
    "              \"ntc\":\"98402XXXXX\"},\n",
    "    \"hari\": [\"9800000000\"]\n",
    "}\n",
    "print(phone_book[\"sagar\"])\n",
    "\n",
    "print(phone_book[\"sagar\"][\"ncell\"])"
   ]
  },
  {
   "cell_type": "code",
   "execution_count": 9,
   "metadata": {},
   "outputs": [
    {
     "name": "stdout",
     "output_type": "stream",
     "text": [
      "9.2\n"
     ]
    }
   ],
   "source": [
    "tv_shows = {\n",
    "    \"HBO\": {'The Sopranos': 9.2, 'The Wire': 9.3, 'Band of Brothers': 9.5, 'Game of Thrones': 9.5},\n",
    "    \"AMC\": {\"Breaking Bad\":9.5, \"Better Call Saul\":8.7, \"The Walking Dead\":8.5}\n",
    "}\n",
    "print(tv_shows[\"HBO\"]['The Sopranos'])"
   ]
  },
  {
   "cell_type": "code",
   "execution_count": 10,
   "metadata": {},
   "outputs": [
    {
     "name": "stdout",
     "output_type": "stream",
     "text": [
      "98073XXXXX\n",
      "98402XXXXX\n",
      "None\n",
      "Sky sim not found\n"
     ]
    }
   ],
   "source": [
    "phone_book = {\n",
    "    \"ncell\": \"98073XXXXX\",\n",
    "    \"ntc\":\"98402XXXXX\"\n",
    "}\n",
    "\n",
    "print(phone_book.get(\"ncell\"))\n",
    "print(phone_book.get(\"ntc\"))\n",
    "print(phone_book.get(\"sky\"))\n",
    "print(phone_book.get(\"sky\", \"Sky sim not found\"))"
   ]
  },
  {
   "cell_type": "markdown",
   "metadata": {},
   "source": [
    "## Inserting"
   ]
  },
  {
   "cell_type": "code",
   "execution_count": 11,
   "metadata": {},
   "outputs": [
    {
     "name": "stdout",
     "output_type": "stream",
     "text": [
      "{'ncell': '98073XXXXX', 'ntc': '98402XXXXX', 'sky': '9820######'}\n"
     ]
    }
   ],
   "source": [
    "phone_book = {\n",
    "    \"ncell\": \"98073XXXXX\",\n",
    "    \"ntc\":\"98402XXXXX\"\n",
    "}\n",
    "\n",
    "phone_book[\"sky\"] = \"9820######\"\n",
    "\n",
    "print(phone_book)"
   ]
  },
  {
   "cell_type": "markdown",
   "metadata": {},
   "source": [
    "## Modifying"
   ]
  },
  {
   "cell_type": "code",
   "execution_count": 12,
   "metadata": {},
   "outputs": [
    {
     "name": "stdout",
     "output_type": "stream",
     "text": [
      "{'ncell': '98073#####', 'ntc': '98402XXXXX'}\n"
     ]
    }
   ],
   "source": [
    "phone_book = {\n",
    "    \"ncell\": \"98073XXXXX\",\n",
    "    \"ntc\":\"98402XXXXX\"\n",
    "}\n",
    "\n",
    "phone_book[\"ncell\"] = \"98073#####\"\n",
    "\n",
    "print(phone_book)"
   ]
  },
  {
   "cell_type": "code",
   "execution_count": 13,
   "metadata": {},
   "outputs": [
    {
     "name": "stdout",
     "output_type": "stream",
     "text": [
      "{'ncell': '98073XXXXX', 'ntc': '98402XXXXX', 'sky': '9820######'}\n"
     ]
    }
   ],
   "source": [
    "phone_book = {\n",
    "    \"ncell\": \"98073XXXXX\",\n",
    "    \"ntc\":\"98402XXXXX\"\n",
    "}\n",
    "\n",
    "phone_book.update({\"sky\": \"9820######\"})\n",
    "print(phone_book)"
   ]
  },
  {
   "cell_type": "code",
   "execution_count": 14,
   "metadata": {},
   "outputs": [
    {
     "name": "stdout",
     "output_type": "stream",
     "text": [
      "{'ncell': '98073#####', 'ntc': '98402XXXXX', 'sky': '9820######'}\n"
     ]
    }
   ],
   "source": [
    "phone_book = {\n",
    "    \"ncell\": \"98073XXXXX\",\n",
    "    \"ntc\":\"98402XXXXX\"\n",
    "}\n",
    "\n",
    "phone_book.update({\"ncell\" : \"98073#####\", \"sky\": \"9820######\"})\n",
    "print(phone_book)"
   ]
  },
  {
   "cell_type": "markdown",
   "metadata": {},
   "source": [
    "## Deleting"
   ]
  },
  {
   "cell_type": "code",
   "execution_count": 15,
   "metadata": {},
   "outputs": [
    {
     "name": "stdout",
     "output_type": "stream",
     "text": [
      "{'ncell': '98073XXXXX', 'ntc': '98402XXXXX', 'sky': '9820######'}\n",
      "=========After delete=========\n",
      "{'ncell': '98073XXXXX', 'ntc': '98402XXXXX'}\n"
     ]
    }
   ],
   "source": [
    "phone_book = {\n",
    "    \"ncell\": \"98073XXXXX\",\n",
    "    \"ntc\":\"98402XXXXX\",\n",
    "    \"sky\": \"9820######\"\n",
    "}\n",
    "print(phone_book)\n",
    "\n",
    "del phone_book[\"sky\"]\n",
    "print(\"=========After delete=========\")\n",
    "print(phone_book)"
   ]
  },
  {
   "cell_type": "code",
   "execution_count": 16,
   "metadata": {},
   "outputs": [
    {
     "name": "stdout",
     "output_type": "stream",
     "text": [
      "{'ncell': '98073XXXXX', 'ntc': '98402XXXXX', 'sky': '9820######'}\n",
      "{'ncell': '98073XXXXX', 'sky': '9820######'}\n",
      "98402XXXXX\n"
     ]
    }
   ],
   "source": [
    "phone_book = {\n",
    "    \"ncell\": \"98073XXXXX\",\n",
    "    \"ntc\":\"98402XXXXX\",\n",
    "    \"sky\": \"9820######\"\n",
    "}\n",
    "print(phone_book)\n",
    "ntc = phone_book.pop(\"ntc\")\n",
    "print(phone_book)\n",
    "print(ntc)"
   ]
  },
  {
   "cell_type": "code",
   "execution_count": 17,
   "metadata": {},
   "outputs": [
    {
     "name": "stdout",
     "output_type": "stream",
     "text": [
      "Enter nameabc\n",
      "980736000\n"
     ]
    }
   ],
   "source": [
    "contact = {\n",
    "    \"abc\": 980736000,\n",
    "    \"cde\": 454564564\n",
    "}\n",
    "\n",
    "def f():\n",
    "    print(contact.get(input(\"Enter name\"), \"not found\"))\n",
    "f()"
   ]
  },
  {
   "cell_type": "markdown",
   "metadata": {},
   "source": [
    "## Other methods"
   ]
  },
  {
   "cell_type": "code",
   "execution_count": 18,
   "metadata": {},
   "outputs": [
    {
     "name": "stdout",
     "output_type": "stream",
     "text": [
      "3\n",
      "dict_keys(['ncell', 'ntc', 'sky'])\n",
      "dict_values(['98073XXXXX', '98402XXXXX', '9820######'])\n",
      "dict_items([('ncell', '98073XXXXX'), ('ntc', '98402XXXXX'), ('sky', '9820######')])\n",
      "True\n",
      "False\n"
     ]
    }
   ],
   "source": [
    "phone_book = {\n",
    "    \"ncell\": \"98073XXXXX\",\n",
    "    \"ntc\":\"98402XXXXX\",\n",
    "    \"sky\": \"9820######\"\n",
    "}\n",
    "\n",
    "print(len(phone_book))\n",
    "print(phone_book.keys())\n",
    "print(phone_book.values())\n",
    "print(phone_book.items())\n",
    "print(\"ncell\" in phone_book)\n",
    "print(\"ntc\" not in phone_book)"
   ]
  },
  {
   "cell_type": "code",
   "execution_count": 19,
   "metadata": {},
   "outputs": [
    {
     "name": "stdout",
     "output_type": "stream",
     "text": [
      "{'ncell': '98073XXXXX', 'ntc': '98402XXXXX', 'sky': '9820######'}\n",
      "{}\n"
     ]
    }
   ],
   "source": [
    "phone_book = {\n",
    "    \"ncell\": \"98073XXXXX\",\n",
    "    \"ntc\":\"98402XXXXX\",\n",
    "    \"sky\": \"9820######\"\n",
    "}\n",
    "\n",
    "print(phone_book)\n",
    "phone_book.clear() # clears\n",
    "print(phone_book)"
   ]
  },
  {
   "cell_type": "markdown",
   "metadata": {},
   "source": [
    "## Looping"
   ]
  },
  {
   "cell_type": "code",
   "execution_count": 20,
   "metadata": {},
   "outputs": [
    {
     "name": "stdout",
     "output_type": "stream",
     "text": [
      "The Sopranos\n",
      "The Wire\n",
      "Band of Brothers\n",
      "Game of Thrones\n"
     ]
    }
   ],
   "source": [
    "hbo_tv_shows = {'The Sopranos': 9.2, 'The Wire': 9.3, 'Band of Brothers': 9.5, 'Game of Thrones': 9.5}\n",
    "for name in hbo_tv_shows:\n",
    "    print(name)"
   ]
  },
  {
   "cell_type": "code",
   "execution_count": 21,
   "metadata": {},
   "outputs": [
    {
     "name": "stdout",
     "output_type": "stream",
     "text": [
      "Show Name: Breaking Bad, IMDB rating: 9.5\n",
      "Show Name: Better Call Saul, IMDB rating: 8.7\n",
      "Show Name: The Walking Dead, IMDB rating: 8.5\n"
     ]
    }
   ],
   "source": [
    "amc_tv_shows = {\"Breaking Bad\":9.5, \"Better Call Saul\":8.7, \"The Walking Dead\":8.5}\n",
    "for name, rating in amc_tv_shows.items():\n",
    "    print(\"Show Name: {0}, IMDB rating: {1}\".format(name, rating))\n"
   ]
  },
  {
   "cell_type": "code",
   "execution_count": 22,
   "metadata": {},
   "outputs": [
    {
     "name": "stdout",
     "output_type": "stream",
     "text": [
      "For channel: HBO\n",
      "Show Name: The Sopranos, IMDB Rating: 9.2\n",
      "Show Name: The Wire, IMDB Rating: 9.3\n",
      "Show Name: Band of Brothers, IMDB Rating: 9.5\n",
      "Show Name: Game of Thrones, IMDB Rating: 9.5\n",
      "For channel: AMC\n",
      "Show Name: Breaking Bad, IMDB Rating: 9.5\n",
      "Show Name: Better Call Saul, IMDB Rating: 8.7\n",
      "Show Name: The Walking Dead, IMDB Rating: 8.5\n"
     ]
    }
   ],
   "source": [
    "tv_shows = {\n",
    "    \"HBO\": {'The Sopranos': 9.2, 'The Wire': 9.3, 'Band of Brothers': 9.5, 'Game of Thrones': 9.5},\n",
    "    \"AMC\": {\"Breaking Bad\":9.5, \"Better Call Saul\":8.7, \"The Walking Dead\":8.5}\n",
    "}\n",
    "\n",
    "\n",
    "for channel, shows in tv_shows.items():\n",
    "    print(\"For channel:\", channel)\n",
    "    for show, rating in shows.items():\n",
    "        print(\"Show Name: {0}, IMDB Rating: {1}\".format(show, rating))"
   ]
  },
  {
   "cell_type": "code",
   "execution_count": 23,
   "metadata": {},
   "outputs": [
    {
     "name": "stdout",
     "output_type": "stream",
     "text": [
      "The Sopranos : 9.2\n",
      "The Wire : 9.3\n",
      "Band of Brothers : 9.5\n",
      "Game of Thrones : 9.5\n",
      "Breaking Bad : 9.5\n",
      "Better Call Saul : 8.7\n",
      "The Walking Dead : 8.5\n"
     ]
    }
   ],
   "source": [
    "tv_shows = {\n",
    "    \"HBO\": {'The Sopranos': 9.2, 'The Wire': 9.3, 'Band of Brothers': 9.5, 'Game of Thrones': 9.5},\n",
    "    \"AMC\": {\"Breaking Bad\":9.5, \"Better Call Saul\":8.7, \"The Walking Dead\":8.5}\n",
    "}\n",
    "\n",
    "# tv_shows = {\n",
    "#     \"HBO\": {'The Sopranos': 9.2, 'The Wire': 9.3, 'Band of Brothers': 9.5, 'Game of Thrones': 9.5},\n",
    "#     \"AMC\": {\"Breaking Bad\":9.5, \"Better Call Saul\":8.7, \"Walking Dead\":{\"Fear The Walking dead\":7.5, \"The Walking Dead\": 8.5}}\n",
    "# }\n",
    "\n",
    "\n",
    "\n",
    "def myprint(d):\n",
    "    for k, v in d.items():\n",
    "        if type(v) is dict:\n",
    "            myprint(v)\n",
    "        else:\n",
    "            print(\"{0} : {1}\".format(k, v))\n",
    "            \n",
    "myprint(d = tv_shows)"
   ]
  },
  {
   "cell_type": "markdown",
   "metadata": {},
   "source": [
    "## Built-in Dictionary Functions & Methods:\n",
    "\n",
    "* `len(dictonary)`\n",
    "* `str(dict)`\n",
    "* `type(variable)`\n",
    "* `dictionary.copy()`\n",
    "* `dictionary.fromkeys(seq,values)`\n",
    "* `dictionary.get(key,default_value)`\n",
    "* `dictionary.has_key(‘key’)`\n",
    "* `dictionary.items()`\n",
    "* `dictionary.keys()`\n",
    "* `dictionary.setdefault(key, default)`\n",
    "* `dictionary.update(dictionary2)`\n",
    "* `dictionary.values()`"
   ]
  },
  {
   "cell_type": "code",
   "execution_count": 24,
   "metadata": {},
   "outputs": [
    {
     "name": "stdout",
     "output_type": "stream",
     "text": [
      "Enter Choice1\n",
      "Hello\n"
     ]
    }
   ],
   "source": [
    "def print_hello():\n",
    "    print(\"Hello\")\n",
    "\n",
    "def print_world():\n",
    "    print(\"World\")\n",
    "\n",
    "def default():\n",
    "    print(\"Default\")\n",
    "\n",
    "switch = {\n",
    "    \"1\": print_hello,\n",
    "    \"2\": print_world\n",
    "}\n",
    "\n",
    "inp = input(\"Enter Choice\")\n",
    "user_chice = switch.get(inp, default)\n",
    "user_chice()"
   ]
  },
  {
   "cell_type": "markdown",
   "metadata": {},
   "source": [
    "This dynamic execution of function according to user input is also called [dispatch table](https://en.wikipedia.org/wiki/Dispatch_table)."
   ]
  },
  {
   "cell_type": "code",
   "execution_count": 25,
   "metadata": {},
   "outputs": [
    {
     "name": "stdout",
     "output_type": "stream",
     "text": [
      "Which case?2\n"
     ]
    },
    {
     "data": {
      "text/plain": [
       "'World'"
      ]
     },
     "execution_count": 25,
     "metadata": {},
     "output_type": "execute_result"
    }
   ],
   "source": [
    "def print_hello():\n",
    "    return \"Hello\"\n",
    "\n",
    "def print_world():\n",
    "    return \"World\"\n",
    "\n",
    "def default():\n",
    "    return \"Default\"\n",
    "\n",
    "def my_switch(choice):\n",
    "    switch = {\n",
    "        \"1\": print_hello,\n",
    "        \"2\": print_world,\n",
    "    }\n",
    "\n",
    "    which = switch.get(choice, default)\n",
    "    return which()\n",
    "\n",
    "my_switch(input(\"Which case?\"))"
   ]
  },
  {
   "cell_type": "code",
   "execution_count": 26,
   "metadata": {},
   "outputs": [
    {
     "name": "stdout",
     "output_type": "stream",
     "text": [
      "Enter choice3\n",
      "Default\n"
     ]
    }
   ],
   "source": [
    "def print_hello():\n",
    "    print(\"Hello\")\n",
    "\n",
    "def print_world():\n",
    "    print(\"World\")\n",
    "\n",
    "def default():\n",
    "    print(\"Default\")\n",
    "\n",
    "switch = {\n",
    "    \"1\": print_hello,\n",
    "    \"2\": print_world,\n",
    "}\n",
    "\n",
    "try:\n",
    "    switch[input(\"Enter choice\")]()\n",
    "except KeyError:\n",
    "    default()"
   ]
  }
 ],
 "metadata": {
  "kernelspec": {
   "display_name": "Python 3",
   "language": "python",
   "name": "python3"
  },
  "language_info": {
   "codemirror_mode": {
    "name": "ipython",
    "version": 3
   },
   "file_extension": ".py",
   "mimetype": "text/x-python",
   "name": "python",
   "nbconvert_exporter": "python",
   "pygments_lexer": "ipython3",
   "version": "3.6.5"
  }
 },
 "nbformat": 4,
 "nbformat_minor": 1
}
