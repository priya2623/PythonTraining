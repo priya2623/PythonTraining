{
 "cells": [
  {
   "cell_type": "markdown",
   "metadata": {},
   "source": [
    "# File Handling"
   ]
  },
  {
   "cell_type": "markdown",
   "metadata": {},
   "source": [
    "### Writing\n",
    "- Opening a new file\n",
    "```python\n",
    ">>> fp = open(\"new_test.txt\",\"w\")\n",
    ">>> print(fp)\n",
    "<opens file 'test.txt', mode 'w'>\n",
    "```\n",
    "\n",
    "- Writing to it:\n",
    "```python\n",
    ">>> fp.write(\"hello world, again\")\t\n",
    ">>> fp.write(\"... and again\") \n",
    ">>> fp.close()\n",
    "```\n",
    "- Only after calling close() the changes appear in the file for editing elsewhere!"
   ]
  },
  {
   "cell_type": "markdown",
   "metadata": {},
   "source": [
    "### Reading\n",
    "- Opening an existing file\n",
    "```python\n",
    ">>> f = open(\"test.txt\",\"r\")\n",
    ">>> print(f)\n",
    "<open file 'test.txt', mode 'r'>\n",
    "```\n",
    "\n",
    "- Reading it:\n",
    "```python\n",
    ">>> f.read()\n",
    "\"hello world\"\n",
    "```\n",
    "\n",
    "- Closing it:\n",
    "```python\n",
    ">>> f.close()\n",
    ">>> print(f)\n",
    "<closed file 'test.txt', mode 'r'>\n",
    "```"
   ]
  },
  {
   "cell_type": "markdown",
   "metadata": {},
   "source": [
    "### Appending\n",
    "- Opening an existing file\n",
    "```python\n",
    ">>> f = open(\"test.txt\",\"a\")\n",
    ">>> print(f)\n",
    "<open file 'test.txt', mode 'a'>\n",
    "```\n",
    "\n",
    "- Appending to it:\n",
    "```python\n",
    ">>> f.write(\"appending\")\n",
    ">>> f.close()\n",
    "```\n",
    "- In append mode the file pointer is set to the end of the opened file."
   ]
  },
  {
   "cell_type": "markdown",
   "metadata": {},
   "source": [
    "### More about file pointers\n",
    "- **`f.tell()`** gives current position within file f\n",
    "- **`f.seek(pos)`** moves to pos \n",
    "- **`f.seek(offset , from)`** change file pointer position within file f, where\n",
    "    - from = 0 , from beginning of file\n",
    "    - from = 1, from current position\n",
    "    - from = 2, from end of file"
   ]
  },
  {
   "cell_type": "code",
   "execution_count": null,
   "metadata": {},
   "outputs": [],
   "source": [
    "fp = open(\"new.txt\", \"w\")\n",
    "fp.write(\"Hello World\")\n",
    "print(fp.tell())\n",
    "fp.close()"
   ]
  },
  {
   "cell_type": "markdown",
   "metadata": {},
   "source": [
    "## Modes\n",
    "\n",
    "- **rb+** Opens the file for reading and writing. File pointer will be at the beginning of the file.\n",
    "\n",
    "- **wb+** Opens for reading and writing. Overwrites the existing file if the file exists, otherwise a new file is created.\n",
    "\n",
    "- **ab+** Opens the file for appending and reading. The file pointer is at the end of the file if the file exists, otherwise a new file is created for reading and writing."
   ]
  },
  {
   "cell_type": "markdown",
   "metadata": {},
   "source": [
    "## Context manager in file handling"
   ]
  },
  {
   "cell_type": "markdown",
   "metadata": {},
   "source": [
    "- Context managers allow you to allocate and release resources precisely when you want to. \n",
    "- The most widely used example of context managers is the with statement."
   ]
  },
  {
   "cell_type": "code",
   "execution_count": null,
   "metadata": {},
   "outputs": [],
   "source": [
    "with open('some_file.txt', 'w') as fp:\n",
    "    fp.write('Hello World!') # opened_file scope is only within the with block"
   ]
  },
  {
   "cell_type": "code",
   "execution_count": null,
   "metadata": {},
   "outputs": [],
   "source": [
    "l = [\"Hello\", \"There\"]\n",
    "with open(\"list.txt\", \"w\") as fp:\n",
    "    for each in l:\n",
    "        fp.write(each)"
   ]
  },
  {
   "cell_type": "code",
   "execution_count": null,
   "metadata": {},
   "outputs": [],
   "source": [
    "data = None\n",
    "with open(\"list.txt\", \"r\") as fp:\n",
    "    data = fp.read()\n",
    "print(data)"
   ]
  },
  {
   "cell_type": "code",
   "execution_count": null,
   "metadata": {},
   "outputs": [],
   "source": [
    "import os\n",
    "print(os.getcwd())"
   ]
  },
  {
   "cell_type": "markdown",
   "metadata": {},
   "source": [
    "<hr>\n",
    "# Exception Handling\n",
    "<hr>"
   ]
  },
  {
   "cell_type": "markdown",
   "metadata": {},
   "source": [
    "- An exception is an error that happens during execution of a program \n",
    "- If an exception is not caught the program is terminated\n",
    "- In Python, exceptions are triggered automatically on errors\n",
    "- Exceptions can be triggered and intercepted by your code "
   ]
  },
  {
   "cell_type": "code",
   "execution_count": null,
   "metadata": {},
   "outputs": [],
   "source": [
    "def divide(num): \n",
    "    print(100/num)\n",
    "try:\n",
    "    divide(100)\n",
    "    fp = open(\"new.txt\", \"r\")\n",
    "except ZeroDivisionError:\n",
    "    print(\"Zero Division not allowed\")\n",
    "except FileNotFoundError:\n",
    "    print(\"File Exception\")\n",
    "except:\n",
    "    print(\"General Exception\")\n",
    "else:\n",
    "    print(\"Success!!!\")\n"
   ]
  },
  {
   "cell_type": "markdown",
   "metadata": {},
   "source": [
    "### Why use exceptions ?\n",
    "- **Error handling** \n",
    "    - Python raises an exception whenever it detects errors in program at runtime. \n",
    "    - You can catch and respond to errors in the code or Python’s default behavior kicks in, stops the program and prints the error message. \n",
    "\n",
    "- **Handling an exception **\n",
    "    - If you have some suspicious code that may raise an exception, you can place the code try: block. \n",
    "    - After the try: block, include an except: statement, followed by a block of code which handles the problem as elegantly as possible."
   ]
  },
  {
   "cell_type": "markdown",
   "metadata": {},
   "source": [
    "## Syntax: try-Except-else \n",
    "```python\n",
    "try:\n",
    "   # You do your operations here;\n",
    "   # ......................\n",
    "except ExceptionI:\n",
    "   # If there is ExceptionI, then execute this block.\n",
    "except ExceptionII:\n",
    "   # If there is ExceptionII, then execute this block.\n",
    "   ......................\n",
    "else: #optional\n",
    "   # If there is no exception then execute this block.\n",
    "```"
   ]
  },
  {
   "cell_type": "code",
   "execution_count": null,
   "metadata": {},
   "outputs": [],
   "source": [
    "8/0"
   ]
  },
  {
   "cell_type": "code",
   "execution_count": null,
   "metadata": {},
   "outputs": [],
   "source": [
    "def divide(num): \n",
    "    print(100/num)\n",
    "\n",
    "try:\n",
    "    divide(5)\n",
    "    divide(0)\n",
    "    fp = open(\"hsdjhd.txt\", \"r\")\n",
    "except ZeroDivisionError as er:\n",
    "    print(er)\n",
    "except:\n",
    "    print(\"dsdsd\")\n",
    "finally:\n",
    "    print(\"Finally\")"
   ]
  },
  {
   "cell_type": "markdown",
   "metadata": {},
   "source": [
    "### The except clause with no Exceptions\n",
    "```python\n",
    "try:\n",
    "    # You do your operations here;\n",
    "    # ......................\n",
    "except:\n",
    "    # If there is any exception, then execute this block.\n",
    "    # ......................\n",
    "else:\n",
    "    # If there is no exception then execute this block. \n",
    "```"
   ]
  },
  {
   "cell_type": "markdown",
   "metadata": {},
   "source": [
    "### Try-finally\n",
    "```python\n",
    "try:\n",
    "    # You do your operations here;\n",
    "    # ......................\n",
    "    # Due to any exception, this may be skipped.\n",
    "finally:\n",
    "    # This would always be executed.\n",
    "    # ......................\n",
    "```"
   ]
  },
  {
   "cell_type": "code",
   "execution_count": null,
   "metadata": {},
   "outputs": [],
   "source": [
    "while True:\n",
    "    try:\n",
    "        n = input(\"Please enter an integer: \")\n",
    "        n = int(n)\n",
    "        break\n",
    "    except ValueError:\n",
    "        print(\"No valid integer! Please try again ...\")\n",
    "print(\"Great, you successfully entered an integer!\")"
   ]
  },
  {
   "cell_type": "code",
   "execution_count": null,
   "metadata": {},
   "outputs": [],
   "source": [
    "import sys\n",
    "\n",
    "try:\n",
    "    f = open('file.txt', 'r')\n",
    "    s = f.readline()\n",
    "    i = int(s.strip())\n",
    "    print(i)\n",
    "except IOError as e:\n",
    "    errno, strerror = e.args\n",
    "    print(\"I/O error({0}): {1}\".format(errno,strerror))\n",
    "    # e can be printed directly without using .args:\n",
    "    # print(e)\n",
    "except ValueError:\n",
    "    print(\"No valid integer in line.\")\n",
    "except:\n",
    "    print(\"Unexpected error:\", sys.exc_info()[0])\n",
    "    raise"
   ]
  },
  {
   "cell_type": "code",
   "execution_count": null,
   "metadata": {},
   "outputs": [],
   "source": [
    "def divide(num):\n",
    "    try:\n",
    "        print(100/num)\n",
    "    except ZeroDivisionError as ze:\n",
    "        print(ze)\n",
    "    finally:\n",
    "        print(\"no matter what I get executed\")\n",
    "\n",
    "divide(2)\n",
    "divide(0) "
   ]
  },
  {
   "cell_type": "code",
   "execution_count": null,
   "metadata": {},
   "outputs": [],
   "source": [
    "def print_hello():\n",
    "    print(\"hello\")\n",
    "def print_world():\n",
    "    print(\"World\")\n",
    "def default():\n",
    "    print(\"Default\")\n",
    "\n",
    "switch = {\n",
    "    \"1\":print_hello,\n",
    "    \"2\":print_world\n",
    "}\n",
    "\n",
    "inp = input(\"Enter choice\")\n",
    "try:\n",
    "    switch[inp]()\n",
    "except:\n",
    "    default()"
   ]
  }
 ],
 "metadata": {
  "kernelspec": {
   "display_name": "Python 3",
   "language": "python",
   "name": "python3"
  },
  "language_info": {
   "codemirror_mode": {
    "name": "ipython",
    "version": 3
   },
   "file_extension": ".py",
   "mimetype": "text/x-python",
   "name": "python",
   "nbconvert_exporter": "python",
   "pygments_lexer": "ipython3",
   "version": "3.6.7"
  }
 },
 "nbformat": 4,
 "nbformat_minor": 1
}
